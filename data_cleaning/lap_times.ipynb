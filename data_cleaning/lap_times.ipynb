{
 "cells": [
  {
   "metadata": {},
   "cell_type": "markdown",
   "source": "# Limpeza de Dados do Dataset dos Tempos de Volta",
   "id": "da306d4a27a46130"
  },
  {
   "metadata": {
    "ExecuteTime": {
     "end_time": "2025-05-30T00:56:19.455257Z",
     "start_time": "2025-05-30T00:56:19.442238Z"
    }
   },
   "cell_type": "code",
   "source": [
    "# Import das bibliotecas\n",
    "\n",
    "import pandas as pd"
   ],
   "id": "fc7c5dc360330feb",
   "outputs": [],
   "execution_count": 18
  },
  {
   "metadata": {
    "ExecuteTime": {
     "end_time": "2025-05-30T00:56:19.736213Z",
     "start_time": "2025-05-30T00:56:19.472302Z"
    }
   },
   "cell_type": "code",
   "source": [
    "# Lendo o arquivo csv\n",
    "df = pd.read_csv('../data/lap_times.csv', na_values=[\"\\\\N\"])\n",
    "df.head()"
   ],
   "id": "673f4a2ea37353c4",
   "outputs": [
    {
     "data": {
      "text/plain": [
       "   raceId  driverId  lap  position      time  milliseconds\n",
       "0     841        20    1         1  1:38.109         98109\n",
       "1     841        20    2         1  1:33.006         93006\n",
       "2     841        20    3         1  1:32.713         92713\n",
       "3     841        20    4         1  1:32.803         92803\n",
       "4     841        20    5         1  1:32.342         92342"
      ],
      "text/html": [
       "<div>\n",
       "<style scoped>\n",
       "    .dataframe tbody tr th:only-of-type {\n",
       "        vertical-align: middle;\n",
       "    }\n",
       "\n",
       "    .dataframe tbody tr th {\n",
       "        vertical-align: top;\n",
       "    }\n",
       "\n",
       "    .dataframe thead th {\n",
       "        text-align: right;\n",
       "    }\n",
       "</style>\n",
       "<table border=\"1\" class=\"dataframe\">\n",
       "  <thead>\n",
       "    <tr style=\"text-align: right;\">\n",
       "      <th></th>\n",
       "      <th>raceId</th>\n",
       "      <th>driverId</th>\n",
       "      <th>lap</th>\n",
       "      <th>position</th>\n",
       "      <th>time</th>\n",
       "      <th>milliseconds</th>\n",
       "    </tr>\n",
       "  </thead>\n",
       "  <tbody>\n",
       "    <tr>\n",
       "      <th>0</th>\n",
       "      <td>841</td>\n",
       "      <td>20</td>\n",
       "      <td>1</td>\n",
       "      <td>1</td>\n",
       "      <td>1:38.109</td>\n",
       "      <td>98109</td>\n",
       "    </tr>\n",
       "    <tr>\n",
       "      <th>1</th>\n",
       "      <td>841</td>\n",
       "      <td>20</td>\n",
       "      <td>2</td>\n",
       "      <td>1</td>\n",
       "      <td>1:33.006</td>\n",
       "      <td>93006</td>\n",
       "    </tr>\n",
       "    <tr>\n",
       "      <th>2</th>\n",
       "      <td>841</td>\n",
       "      <td>20</td>\n",
       "      <td>3</td>\n",
       "      <td>1</td>\n",
       "      <td>1:32.713</td>\n",
       "      <td>92713</td>\n",
       "    </tr>\n",
       "    <tr>\n",
       "      <th>3</th>\n",
       "      <td>841</td>\n",
       "      <td>20</td>\n",
       "      <td>4</td>\n",
       "      <td>1</td>\n",
       "      <td>1:32.803</td>\n",
       "      <td>92803</td>\n",
       "    </tr>\n",
       "    <tr>\n",
       "      <th>4</th>\n",
       "      <td>841</td>\n",
       "      <td>20</td>\n",
       "      <td>5</td>\n",
       "      <td>1</td>\n",
       "      <td>1:32.342</td>\n",
       "      <td>92342</td>\n",
       "    </tr>\n",
       "  </tbody>\n",
       "</table>\n",
       "</div>"
      ]
     },
     "execution_count": 19,
     "metadata": {},
     "output_type": "execute_result"
    }
   ],
   "execution_count": 19
  },
  {
   "metadata": {
    "ExecuteTime": {
     "end_time": "2025-05-30T00:56:19.798827Z",
     "start_time": "2025-05-30T00:56:19.784309Z"
    }
   },
   "cell_type": "code",
   "source": "df.dtypes",
   "id": "6239ce199dc5791c",
   "outputs": [
    {
     "data": {
      "text/plain": [
       "raceId           int64\n",
       "driverId         int64\n",
       "lap              int64\n",
       "position         int64\n",
       "time            object\n",
       "milliseconds     int64\n",
       "dtype: object"
      ]
     },
     "execution_count": 20,
     "metadata": {},
     "output_type": "execute_result"
    }
   ],
   "execution_count": 20
  },
  {
   "metadata": {},
   "cell_type": "markdown",
   "source": [
    "Os tipos das colunas não apresentam nenhuma inconsistência.\n",
    "\n",
    "A coluna `time`, que representa valores de tempo no formato `%H:%M:%S`, está definida como `object`, porém essa coluna é usada apenas para fins de exibição do tempo. As operações matemáticas serão realizadas utilizando a coluna `milliseconds`, que representa a mesma informação só que me milisegundos."
   ],
   "id": "ae07a14e6c3e8ca8"
  },
  {
   "metadata": {},
   "cell_type": "markdown",
   "source": "## Identificando Dados Ausentes",
   "id": "da83605c24147f7b"
  },
  {
   "metadata": {
    "ExecuteTime": {
     "end_time": "2025-05-30T00:56:20.047849Z",
     "start_time": "2025-05-30T00:56:19.956170Z"
    }
   },
   "cell_type": "code",
   "source": [
    "# Verificando valores ausentes\n",
    "df.isnull().sum()"
   ],
   "id": "f561e609dcf79c26",
   "outputs": [
    {
     "data": {
      "text/plain": [
       "raceId          0\n",
       "driverId        0\n",
       "lap             0\n",
       "position        0\n",
       "time            0\n",
       "milliseconds    0\n",
       "dtype: int64"
      ]
     },
     "execution_count": 21,
     "metadata": {},
     "output_type": "execute_result"
    }
   ],
   "execution_count": 21
  },
  {
   "metadata": {},
   "cell_type": "markdown",
   "source": "Nenhum valor ausente identificado.",
   "id": "b23b6a4b02339e4f"
  },
  {
   "metadata": {},
   "cell_type": "markdown",
   "source": "## Identificando Dados Duplicados",
   "id": "a226f85cc279ae46"
  },
  {
   "metadata": {
    "ExecuteTime": {
     "end_time": "2025-05-30T00:56:20.359949Z",
     "start_time": "2025-05-30T00:56:20.205164Z"
    }
   },
   "cell_type": "code",
   "source": [
    "# Verificação de registros duplicados\n",
    "df[df.duplicated(keep=False)]"
   ],
   "id": "c92bb5a5b01f7532",
   "outputs": [
    {
     "data": {
      "text/plain": [
       "Empty DataFrame\n",
       "Columns: [raceId, driverId, lap, position, time, milliseconds]\n",
       "Index: []"
      ],
      "text/html": [
       "<div>\n",
       "<style scoped>\n",
       "    .dataframe tbody tr th:only-of-type {\n",
       "        vertical-align: middle;\n",
       "    }\n",
       "\n",
       "    .dataframe tbody tr th {\n",
       "        vertical-align: top;\n",
       "    }\n",
       "\n",
       "    .dataframe thead th {\n",
       "        text-align: right;\n",
       "    }\n",
       "</style>\n",
       "<table border=\"1\" class=\"dataframe\">\n",
       "  <thead>\n",
       "    <tr style=\"text-align: right;\">\n",
       "      <th></th>\n",
       "      <th>raceId</th>\n",
       "      <th>driverId</th>\n",
       "      <th>lap</th>\n",
       "      <th>position</th>\n",
       "      <th>time</th>\n",
       "      <th>milliseconds</th>\n",
       "    </tr>\n",
       "  </thead>\n",
       "  <tbody>\n",
       "  </tbody>\n",
       "</table>\n",
       "</div>"
      ]
     },
     "execution_count": 22,
     "metadata": {},
     "output_type": "execute_result"
    }
   ],
   "execution_count": 22
  },
  {
   "metadata": {
    "ExecuteTime": {
     "end_time": "2025-05-30T00:56:20.562353Z",
     "start_time": "2025-05-30T00:56:20.469666Z"
    }
   },
   "cell_type": "code",
   "source": [
    "# Verificação de registros duplicados\n",
    "df[df.duplicated(subset=['raceId', 'driverId', 'lap'] ,keep=False)]"
   ],
   "id": "ecd917bcdf06d833",
   "outputs": [
    {
     "data": {
      "text/plain": [
       "Empty DataFrame\n",
       "Columns: [raceId, driverId, lap, position, time, milliseconds]\n",
       "Index: []"
      ],
      "text/html": [
       "<div>\n",
       "<style scoped>\n",
       "    .dataframe tbody tr th:only-of-type {\n",
       "        vertical-align: middle;\n",
       "    }\n",
       "\n",
       "    .dataframe tbody tr th {\n",
       "        vertical-align: top;\n",
       "    }\n",
       "\n",
       "    .dataframe thead th {\n",
       "        text-align: right;\n",
       "    }\n",
       "</style>\n",
       "<table border=\"1\" class=\"dataframe\">\n",
       "  <thead>\n",
       "    <tr style=\"text-align: right;\">\n",
       "      <th></th>\n",
       "      <th>raceId</th>\n",
       "      <th>driverId</th>\n",
       "      <th>lap</th>\n",
       "      <th>position</th>\n",
       "      <th>time</th>\n",
       "      <th>milliseconds</th>\n",
       "    </tr>\n",
       "  </thead>\n",
       "  <tbody>\n",
       "  </tbody>\n",
       "</table>\n",
       "</div>"
      ]
     },
     "execution_count": 23,
     "metadata": {},
     "output_type": "execute_result"
    }
   ],
   "execution_count": 23
  },
  {
   "metadata": {},
   "cell_type": "markdown",
   "source": "Não foi encontrado nenhum registro duplicado.",
   "id": "1da0e96eec37ae45"
  },
  {
   "metadata": {},
   "cell_type": "markdown",
   "source": "## Salvando o Dataset Tratado",
   "id": "c0d52df2cde545cd"
  },
  {
   "metadata": {
    "ExecuteTime": {
     "end_time": "2025-05-30T00:56:21.464151Z",
     "start_time": "2025-05-30T00:56:20.672650Z"
    }
   },
   "cell_type": "code",
   "source": "df.to_csv('../data_cleaned/lap_times.csv', index=False)",
   "id": "6c561f4ff2224d12",
   "outputs": [],
   "execution_count": 24
  }
 ],
 "metadata": {
  "kernelspec": {
   "display_name": "Python 3",
   "language": "python",
   "name": "python3"
  },
  "language_info": {
   "codemirror_mode": {
    "name": "ipython",
    "version": 2
   },
   "file_extension": ".py",
   "mimetype": "text/x-python",
   "name": "python",
   "nbconvert_exporter": "python",
   "pygments_lexer": "ipython2",
   "version": "2.7.6"
  }
 },
 "nbformat": 4,
 "nbformat_minor": 5
}
