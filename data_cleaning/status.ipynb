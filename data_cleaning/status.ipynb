{
 "cells": [
  {
   "metadata": {},
   "cell_type": "markdown",
   "source": "# Limpeza de Dados do Dataset dos Status",
   "id": "9b3ab160908ed4df"
  },
  {
   "metadata": {
    "ExecuteTime": {
     "end_time": "2025-06-04T00:22:11.620233Z",
     "start_time": "2025-06-04T00:22:11.611722Z"
    }
   },
   "cell_type": "code",
   "source": [
    "# Import das bibliotecas\n",
    "\n",
    "import pandas as pd"
   ],
   "id": "fd997400002c21c4",
   "outputs": [],
   "execution_count": 12
  },
  {
   "metadata": {
    "ExecuteTime": {
     "end_time": "2025-06-04T00:22:11.652234Z",
     "start_time": "2025-06-04T00:22:11.637235Z"
    }
   },
   "cell_type": "code",
   "source": [
    "# Lendo o arquivo csv\n",
    "df = pd.read_csv('../data/status.csv', na_values=[\"\\\\N\"])\n",
    "df.head()"
   ],
   "id": "a4aab4a88ae0cb52",
   "outputs": [
    {
     "data": {
      "text/plain": [
       "   statusId        status\n",
       "0         1      Finished\n",
       "1         2  Disqualified\n",
       "2         3      Accident\n",
       "3         4     Collision\n",
       "4         5        Engine"
      ],
      "text/html": [
       "<div>\n",
       "<style scoped>\n",
       "    .dataframe tbody tr th:only-of-type {\n",
       "        vertical-align: middle;\n",
       "    }\n",
       "\n",
       "    .dataframe tbody tr th {\n",
       "        vertical-align: top;\n",
       "    }\n",
       "\n",
       "    .dataframe thead th {\n",
       "        text-align: right;\n",
       "    }\n",
       "</style>\n",
       "<table border=\"1\" class=\"dataframe\">\n",
       "  <thead>\n",
       "    <tr style=\"text-align: right;\">\n",
       "      <th></th>\n",
       "      <th>statusId</th>\n",
       "      <th>status</th>\n",
       "    </tr>\n",
       "  </thead>\n",
       "  <tbody>\n",
       "    <tr>\n",
       "      <th>0</th>\n",
       "      <td>1</td>\n",
       "      <td>Finished</td>\n",
       "    </tr>\n",
       "    <tr>\n",
       "      <th>1</th>\n",
       "      <td>2</td>\n",
       "      <td>Disqualified</td>\n",
       "    </tr>\n",
       "    <tr>\n",
       "      <th>2</th>\n",
       "      <td>3</td>\n",
       "      <td>Accident</td>\n",
       "    </tr>\n",
       "    <tr>\n",
       "      <th>3</th>\n",
       "      <td>4</td>\n",
       "      <td>Collision</td>\n",
       "    </tr>\n",
       "    <tr>\n",
       "      <th>4</th>\n",
       "      <td>5</td>\n",
       "      <td>Engine</td>\n",
       "    </tr>\n",
       "  </tbody>\n",
       "</table>\n",
       "</div>"
      ]
     },
     "execution_count": 13,
     "metadata": {},
     "output_type": "execute_result"
    }
   ],
   "execution_count": 13
  },
  {
   "metadata": {
    "ExecuteTime": {
     "end_time": "2025-06-04T00:22:11.730692Z",
     "start_time": "2025-06-04T00:22:11.715693Z"
    }
   },
   "cell_type": "code",
   "source": "df.dtypes",
   "id": "22ec31721828665d",
   "outputs": [
    {
     "data": {
      "text/plain": [
       "statusId     int64\n",
       "status      object\n",
       "dtype: object"
      ]
     },
     "execution_count": 14,
     "metadata": {},
     "output_type": "execute_result"
    }
   ],
   "execution_count": 14
  },
  {
   "metadata": {},
   "cell_type": "markdown",
   "source": "Os tipos das colunas não apresentam nenhuma inconsistência.",
   "id": "79bdf63f517fb5c5"
  },
  {
   "metadata": {},
   "cell_type": "markdown",
   "source": "## Identificando Dados Ausentes",
   "id": "adc0126e0a3872a6"
  },
  {
   "metadata": {
    "ExecuteTime": {
     "end_time": "2025-06-04T00:22:11.825210Z",
     "start_time": "2025-06-04T00:22:11.811211Z"
    }
   },
   "cell_type": "code",
   "source": [
    "# Verificando valores ausentes\n",
    "df.isnull().sum()"
   ],
   "id": "166bd7a52243a32d",
   "outputs": [
    {
     "data": {
      "text/plain": [
       "statusId    0\n",
       "status      0\n",
       "dtype: int64"
      ]
     },
     "execution_count": 15,
     "metadata": {},
     "output_type": "execute_result"
    }
   ],
   "execution_count": 15
  },
  {
   "metadata": {},
   "cell_type": "markdown",
   "source": "Nenhum valor ausente identificado.",
   "id": "3ded9bdc3256db9a"
  },
  {
   "metadata": {},
   "cell_type": "markdown",
   "source": "## Identificando Dados Duplicados",
   "id": "e9a295dcddd9c876"
  },
  {
   "metadata": {
    "ExecuteTime": {
     "end_time": "2025-06-04T00:22:11.966729Z",
     "start_time": "2025-06-04T00:22:11.953726Z"
    }
   },
   "cell_type": "code",
   "source": [
    "# Verificação de registros duplicados\n",
    "df[df.duplicated(keep=False)]"
   ],
   "id": "cbdf1dcf85717bcd",
   "outputs": [
    {
     "data": {
      "text/plain": [
       "Empty DataFrame\n",
       "Columns: [statusId, status]\n",
       "Index: []"
      ],
      "text/html": [
       "<div>\n",
       "<style scoped>\n",
       "    .dataframe tbody tr th:only-of-type {\n",
       "        vertical-align: middle;\n",
       "    }\n",
       "\n",
       "    .dataframe tbody tr th {\n",
       "        vertical-align: top;\n",
       "    }\n",
       "\n",
       "    .dataframe thead th {\n",
       "        text-align: right;\n",
       "    }\n",
       "</style>\n",
       "<table border=\"1\" class=\"dataframe\">\n",
       "  <thead>\n",
       "    <tr style=\"text-align: right;\">\n",
       "      <th></th>\n",
       "      <th>statusId</th>\n",
       "      <th>status</th>\n",
       "    </tr>\n",
       "  </thead>\n",
       "  <tbody>\n",
       "  </tbody>\n",
       "</table>\n",
       "</div>"
      ]
     },
     "execution_count": 16,
     "metadata": {},
     "output_type": "execute_result"
    }
   ],
   "execution_count": 16
  },
  {
   "metadata": {
    "ExecuteTime": {
     "end_time": "2025-06-04T00:22:12.169764Z",
     "start_time": "2025-06-04T00:22:12.154761Z"
    }
   },
   "cell_type": "code",
   "source": [
    "# Verificação de registros duplicados apenas da coluna 'statusId'\n",
    "df[df.duplicated(subset=['statusId'], keep=False)]"
   ],
   "id": "aaa6f790c8d57d6d",
   "outputs": [
    {
     "data": {
      "text/plain": [
       "Empty DataFrame\n",
       "Columns: [statusId, status]\n",
       "Index: []"
      ],
      "text/html": [
       "<div>\n",
       "<style scoped>\n",
       "    .dataframe tbody tr th:only-of-type {\n",
       "        vertical-align: middle;\n",
       "    }\n",
       "\n",
       "    .dataframe tbody tr th {\n",
       "        vertical-align: top;\n",
       "    }\n",
       "\n",
       "    .dataframe thead th {\n",
       "        text-align: right;\n",
       "    }\n",
       "</style>\n",
       "<table border=\"1\" class=\"dataframe\">\n",
       "  <thead>\n",
       "    <tr style=\"text-align: right;\">\n",
       "      <th></th>\n",
       "      <th>statusId</th>\n",
       "      <th>status</th>\n",
       "    </tr>\n",
       "  </thead>\n",
       "  <tbody>\n",
       "  </tbody>\n",
       "</table>\n",
       "</div>"
      ]
     },
     "execution_count": 17,
     "metadata": {},
     "output_type": "execute_result"
    }
   ],
   "execution_count": 17
  },
  {
   "metadata": {
    "ExecuteTime": {
     "end_time": "2025-06-04T00:22:12.326370Z",
     "start_time": "2025-06-04T00:22:12.312372Z"
    }
   },
   "cell_type": "code",
   "source": [
    "# Verificação de registros duplicados apenas da coluna 'status'\n",
    "df[df.duplicated(subset=['status'], keep=False)]"
   ],
   "id": "482e0dfcc74577fa",
   "outputs": [
    {
     "data": {
      "text/plain": [
       "Empty DataFrame\n",
       "Columns: [statusId, status]\n",
       "Index: []"
      ],
      "text/html": [
       "<div>\n",
       "<style scoped>\n",
       "    .dataframe tbody tr th:only-of-type {\n",
       "        vertical-align: middle;\n",
       "    }\n",
       "\n",
       "    .dataframe tbody tr th {\n",
       "        vertical-align: top;\n",
       "    }\n",
       "\n",
       "    .dataframe thead th {\n",
       "        text-align: right;\n",
       "    }\n",
       "</style>\n",
       "<table border=\"1\" class=\"dataframe\">\n",
       "  <thead>\n",
       "    <tr style=\"text-align: right;\">\n",
       "      <th></th>\n",
       "      <th>statusId</th>\n",
       "      <th>status</th>\n",
       "    </tr>\n",
       "  </thead>\n",
       "  <tbody>\n",
       "  </tbody>\n",
       "</table>\n",
       "</div>"
      ]
     },
     "execution_count": 18,
     "metadata": {},
     "output_type": "execute_result"
    }
   ],
   "execution_count": 18
  },
  {
   "metadata": {},
   "cell_type": "markdown",
   "source": "Não foi encontrado nenhum registro duplicado.",
   "id": "74d2f4945a2c57a5"
  },
  {
   "metadata": {},
   "cell_type": "markdown",
   "source": "## Salvando o Dataset Tratado",
   "id": "23a6db5e32457871"
  },
  {
   "metadata": {
    "ExecuteTime": {
     "end_time": "2025-06-04T00:22:12.421439Z",
     "start_time": "2025-06-04T00:22:12.406441Z"
    }
   },
   "cell_type": "code",
   "source": "df.to_csv('../data_cleaned/status.csv', index=False)",
   "id": "35df178e6edda6ec",
   "outputs": [],
   "execution_count": 19
  }
 ],
 "metadata": {
  "kernelspec": {
   "display_name": "Python 3",
   "language": "python",
   "name": "python3"
  },
  "language_info": {
   "codemirror_mode": {
    "name": "ipython",
    "version": 2
   },
   "file_extension": ".py",
   "mimetype": "text/x-python",
   "name": "python",
   "nbconvert_exporter": "python",
   "pygments_lexer": "ipython2",
   "version": "2.7.6"
  }
 },
 "nbformat": 4,
 "nbformat_minor": 5
}
