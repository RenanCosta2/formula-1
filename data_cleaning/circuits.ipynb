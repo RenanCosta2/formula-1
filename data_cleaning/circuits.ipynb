{
 "cells": [
  {
   "metadata": {},
   "cell_type": "markdown",
   "source": "# Limpeza de Dados do Dataset dos Curcuitos",
   "id": "eaa570788b58b41e"
  },
  {
   "metadata": {
    "ExecuteTime": {
     "end_time": "2025-05-27T22:38:00.329202Z",
     "start_time": "2025-05-27T22:37:59.370948Z"
    }
   },
   "cell_type": "code",
   "source": [
    "# Import das bibliotecas\n",
    "\n",
    "import pandas as pd"
   ],
   "id": "initial_id",
   "outputs": [],
   "execution_count": 3
  },
  {
   "metadata": {
    "ExecuteTime": {
     "end_time": "2025-05-27T22:38:00.406861Z",
     "start_time": "2025-05-27T22:38:00.361756Z"
    }
   },
   "cell_type": "code",
   "source": [
    "# Lendo o arquivo csv\n",
    "df = pd.read_csv('../data/circuits.csv')\n",
    "df.head()"
   ],
   "id": "f23394279f0fc73b",
   "outputs": [
    {
     "data": {
      "text/plain": [
       "   circuitId   circuitRef                            name      location  \\\n",
       "0          1  albert_park  Albert Park Grand Prix Circuit     Melbourne   \n",
       "1          2       sepang    Sepang International Circuit  Kuala Lumpur   \n",
       "2          3      bahrain   Bahrain International Circuit        Sakhir   \n",
       "3          4    catalunya  Circuit de Barcelona-Catalunya      Montmeló   \n",
       "4          5     istanbul                   Istanbul Park      Istanbul   \n",
       "\n",
       "     country       lat        lng  alt  \\\n",
       "0  Australia -37.84970  144.96800   10   \n",
       "1   Malaysia   2.76083  101.73800   18   \n",
       "2    Bahrain  26.03250   50.51060    7   \n",
       "3      Spain  41.57000    2.26111  109   \n",
       "4     Turkey  40.95170   29.40500  130   \n",
       "\n",
       "                                                 url  \n",
       "0  http://en.wikipedia.org/wiki/Melbourne_Grand_P...  \n",
       "1  http://en.wikipedia.org/wiki/Sepang_Internatio...  \n",
       "2  http://en.wikipedia.org/wiki/Bahrain_Internati...  \n",
       "3  http://en.wikipedia.org/wiki/Circuit_de_Barcel...  \n",
       "4         http://en.wikipedia.org/wiki/Istanbul_Park  "
      ],
      "text/html": [
       "<div>\n",
       "<style scoped>\n",
       "    .dataframe tbody tr th:only-of-type {\n",
       "        vertical-align: middle;\n",
       "    }\n",
       "\n",
       "    .dataframe tbody tr th {\n",
       "        vertical-align: top;\n",
       "    }\n",
       "\n",
       "    .dataframe thead th {\n",
       "        text-align: right;\n",
       "    }\n",
       "</style>\n",
       "<table border=\"1\" class=\"dataframe\">\n",
       "  <thead>\n",
       "    <tr style=\"text-align: right;\">\n",
       "      <th></th>\n",
       "      <th>circuitId</th>\n",
       "      <th>circuitRef</th>\n",
       "      <th>name</th>\n",
       "      <th>location</th>\n",
       "      <th>country</th>\n",
       "      <th>lat</th>\n",
       "      <th>lng</th>\n",
       "      <th>alt</th>\n",
       "      <th>url</th>\n",
       "    </tr>\n",
       "  </thead>\n",
       "  <tbody>\n",
       "    <tr>\n",
       "      <th>0</th>\n",
       "      <td>1</td>\n",
       "      <td>albert_park</td>\n",
       "      <td>Albert Park Grand Prix Circuit</td>\n",
       "      <td>Melbourne</td>\n",
       "      <td>Australia</td>\n",
       "      <td>-37.84970</td>\n",
       "      <td>144.96800</td>\n",
       "      <td>10</td>\n",
       "      <td>http://en.wikipedia.org/wiki/Melbourne_Grand_P...</td>\n",
       "    </tr>\n",
       "    <tr>\n",
       "      <th>1</th>\n",
       "      <td>2</td>\n",
       "      <td>sepang</td>\n",
       "      <td>Sepang International Circuit</td>\n",
       "      <td>Kuala Lumpur</td>\n",
       "      <td>Malaysia</td>\n",
       "      <td>2.76083</td>\n",
       "      <td>101.73800</td>\n",
       "      <td>18</td>\n",
       "      <td>http://en.wikipedia.org/wiki/Sepang_Internatio...</td>\n",
       "    </tr>\n",
       "    <tr>\n",
       "      <th>2</th>\n",
       "      <td>3</td>\n",
       "      <td>bahrain</td>\n",
       "      <td>Bahrain International Circuit</td>\n",
       "      <td>Sakhir</td>\n",
       "      <td>Bahrain</td>\n",
       "      <td>26.03250</td>\n",
       "      <td>50.51060</td>\n",
       "      <td>7</td>\n",
       "      <td>http://en.wikipedia.org/wiki/Bahrain_Internati...</td>\n",
       "    </tr>\n",
       "    <tr>\n",
       "      <th>3</th>\n",
       "      <td>4</td>\n",
       "      <td>catalunya</td>\n",
       "      <td>Circuit de Barcelona-Catalunya</td>\n",
       "      <td>Montmeló</td>\n",
       "      <td>Spain</td>\n",
       "      <td>41.57000</td>\n",
       "      <td>2.26111</td>\n",
       "      <td>109</td>\n",
       "      <td>http://en.wikipedia.org/wiki/Circuit_de_Barcel...</td>\n",
       "    </tr>\n",
       "    <tr>\n",
       "      <th>4</th>\n",
       "      <td>5</td>\n",
       "      <td>istanbul</td>\n",
       "      <td>Istanbul Park</td>\n",
       "      <td>Istanbul</td>\n",
       "      <td>Turkey</td>\n",
       "      <td>40.95170</td>\n",
       "      <td>29.40500</td>\n",
       "      <td>130</td>\n",
       "      <td>http://en.wikipedia.org/wiki/Istanbul_Park</td>\n",
       "    </tr>\n",
       "  </tbody>\n",
       "</table>\n",
       "</div>"
      ]
     },
     "execution_count": 4,
     "metadata": {},
     "output_type": "execute_result"
    }
   ],
   "execution_count": 4
  },
  {
   "metadata": {
    "ExecuteTime": {
     "end_time": "2025-05-27T22:38:00.562154Z",
     "start_time": "2025-05-27T22:38:00.548643Z"
    }
   },
   "cell_type": "code",
   "source": "df.dtypes",
   "id": "34fb71676ebd7306",
   "outputs": [
    {
     "data": {
      "text/plain": [
       "circuitId       int64\n",
       "circuitRef     object\n",
       "name           object\n",
       "location       object\n",
       "country        object\n",
       "lat           float64\n",
       "lng           float64\n",
       "alt             int64\n",
       "url            object\n",
       "dtype: object"
      ]
     },
     "execution_count": 5,
     "metadata": {},
     "output_type": "execute_result"
    }
   ],
   "execution_count": 5
  },
  {
   "metadata": {},
   "cell_type": "markdown",
   "source": "Os tipos das colunas não apresentam nenhuma inconsistência.",
   "id": "be20a645c9c18bc7"
  },
  {
   "metadata": {},
   "cell_type": "markdown",
   "source": "## Identificando Dados Ausentes",
   "id": "5eb5bde809fa3931"
  },
  {
   "metadata": {
    "ExecuteTime": {
     "end_time": "2025-05-27T22:38:00.873374Z",
     "start_time": "2025-05-27T22:38:00.859846Z"
    }
   },
   "cell_type": "code",
   "source": [
    "# Verificando valores ausentes\n",
    "df.isnull().sum()"
   ],
   "id": "7d28c71c9c69d8b7",
   "outputs": [
    {
     "data": {
      "text/plain": [
       "circuitId     0\n",
       "circuitRef    0\n",
       "name          0\n",
       "location      0\n",
       "country       0\n",
       "lat           0\n",
       "lng           0\n",
       "alt           0\n",
       "url           0\n",
       "dtype: int64"
      ]
     },
     "execution_count": 6,
     "metadata": {},
     "output_type": "execute_result"
    }
   ],
   "execution_count": 6
  },
  {
   "metadata": {},
   "cell_type": "markdown",
   "source": "Nenhum valor ausente identificado.",
   "id": "cb19616b9b7704c9"
  },
  {
   "metadata": {},
   "cell_type": "markdown",
   "source": "## Identificando Dados Duplicados",
   "id": "f1236c53550f5bb5"
  },
  {
   "metadata": {
    "ExecuteTime": {
     "end_time": "2025-05-27T22:38:01.106843Z",
     "start_time": "2025-05-27T22:38:01.084283Z"
    }
   },
   "cell_type": "code",
   "source": [
    "# Verificação de registros duplicados\n",
    "df[df.duplicated(keep=False)]"
   ],
   "id": "c2766435b7709586",
   "outputs": [
    {
     "data": {
      "text/plain": [
       "Empty DataFrame\n",
       "Columns: [circuitId, circuitRef, name, location, country, lat, lng, alt, url]\n",
       "Index: []"
      ],
      "text/html": [
       "<div>\n",
       "<style scoped>\n",
       "    .dataframe tbody tr th:only-of-type {\n",
       "        vertical-align: middle;\n",
       "    }\n",
       "\n",
       "    .dataframe tbody tr th {\n",
       "        vertical-align: top;\n",
       "    }\n",
       "\n",
       "    .dataframe thead th {\n",
       "        text-align: right;\n",
       "    }\n",
       "</style>\n",
       "<table border=\"1\" class=\"dataframe\">\n",
       "  <thead>\n",
       "    <tr style=\"text-align: right;\">\n",
       "      <th></th>\n",
       "      <th>circuitId</th>\n",
       "      <th>circuitRef</th>\n",
       "      <th>name</th>\n",
       "      <th>location</th>\n",
       "      <th>country</th>\n",
       "      <th>lat</th>\n",
       "      <th>lng</th>\n",
       "      <th>alt</th>\n",
       "      <th>url</th>\n",
       "    </tr>\n",
       "  </thead>\n",
       "  <tbody>\n",
       "  </tbody>\n",
       "</table>\n",
       "</div>"
      ]
     },
     "execution_count": 7,
     "metadata": {},
     "output_type": "execute_result"
    }
   ],
   "execution_count": 7
  },
  {
   "metadata": {
    "ExecuteTime": {
     "end_time": "2025-05-27T22:38:01.293225Z",
     "start_time": "2025-05-27T22:38:01.286225Z"
    }
   },
   "cell_type": "code",
   "source": [
    "# Verificação de registros duplicados apenas da coluna 'circuitId'\n",
    "df[df.duplicated(subset=['circuitId'], keep=False)]"
   ],
   "id": "8bc683d6c2c1d046",
   "outputs": [
    {
     "data": {
      "text/plain": [
       "Empty DataFrame\n",
       "Columns: [circuitId, circuitRef, name, location, country, lat, lng, alt, url]\n",
       "Index: []"
      ],
      "text/html": [
       "<div>\n",
       "<style scoped>\n",
       "    .dataframe tbody tr th:only-of-type {\n",
       "        vertical-align: middle;\n",
       "    }\n",
       "\n",
       "    .dataframe tbody tr th {\n",
       "        vertical-align: top;\n",
       "    }\n",
       "\n",
       "    .dataframe thead th {\n",
       "        text-align: right;\n",
       "    }\n",
       "</style>\n",
       "<table border=\"1\" class=\"dataframe\">\n",
       "  <thead>\n",
       "    <tr style=\"text-align: right;\">\n",
       "      <th></th>\n",
       "      <th>circuitId</th>\n",
       "      <th>circuitRef</th>\n",
       "      <th>name</th>\n",
       "      <th>location</th>\n",
       "      <th>country</th>\n",
       "      <th>lat</th>\n",
       "      <th>lng</th>\n",
       "      <th>alt</th>\n",
       "      <th>url</th>\n",
       "    </tr>\n",
       "  </thead>\n",
       "  <tbody>\n",
       "  </tbody>\n",
       "</table>\n",
       "</div>"
      ]
     },
     "execution_count": 8,
     "metadata": {},
     "output_type": "execute_result"
    }
   ],
   "execution_count": 8
  },
  {
   "metadata": {
    "ExecuteTime": {
     "end_time": "2025-05-27T22:38:01.526777Z",
     "start_time": "2025-05-27T22:38:01.510742Z"
    }
   },
   "cell_type": "code",
   "source": [
    "# Verificação de registros duplicados apenas da coluna 'circuitRef'\n",
    "df[df.duplicated(subset=['circuitRef'], keep=False)]"
   ],
   "id": "66d25235945ca91d",
   "outputs": [
    {
     "data": {
      "text/plain": [
       "Empty DataFrame\n",
       "Columns: [circuitId, circuitRef, name, location, country, lat, lng, alt, url]\n",
       "Index: []"
      ],
      "text/html": [
       "<div>\n",
       "<style scoped>\n",
       "    .dataframe tbody tr th:only-of-type {\n",
       "        vertical-align: middle;\n",
       "    }\n",
       "\n",
       "    .dataframe tbody tr th {\n",
       "        vertical-align: top;\n",
       "    }\n",
       "\n",
       "    .dataframe thead th {\n",
       "        text-align: right;\n",
       "    }\n",
       "</style>\n",
       "<table border=\"1\" class=\"dataframe\">\n",
       "  <thead>\n",
       "    <tr style=\"text-align: right;\">\n",
       "      <th></th>\n",
       "      <th>circuitId</th>\n",
       "      <th>circuitRef</th>\n",
       "      <th>name</th>\n",
       "      <th>location</th>\n",
       "      <th>country</th>\n",
       "      <th>lat</th>\n",
       "      <th>lng</th>\n",
       "      <th>alt</th>\n",
       "      <th>url</th>\n",
       "    </tr>\n",
       "  </thead>\n",
       "  <tbody>\n",
       "  </tbody>\n",
       "</table>\n",
       "</div>"
      ]
     },
     "execution_count": 9,
     "metadata": {},
     "output_type": "execute_result"
    }
   ],
   "execution_count": 9
  },
  {
   "metadata": {
    "ExecuteTime": {
     "end_time": "2025-05-27T22:38:01.760326Z",
     "start_time": "2025-05-27T22:38:01.751812Z"
    }
   },
   "cell_type": "code",
   "source": [
    "# Verificação de registros duplicados apenas da coluna 'name'\n",
    "df[df.duplicated(subset=['name'], keep=False)]"
   ],
   "id": "7589208248220909",
   "outputs": [
    {
     "data": {
      "text/plain": [
       "Empty DataFrame\n",
       "Columns: [circuitId, circuitRef, name, location, country, lat, lng, alt, url]\n",
       "Index: []"
      ],
      "text/html": [
       "<div>\n",
       "<style scoped>\n",
       "    .dataframe tbody tr th:only-of-type {\n",
       "        vertical-align: middle;\n",
       "    }\n",
       "\n",
       "    .dataframe tbody tr th {\n",
       "        vertical-align: top;\n",
       "    }\n",
       "\n",
       "    .dataframe thead th {\n",
       "        text-align: right;\n",
       "    }\n",
       "</style>\n",
       "<table border=\"1\" class=\"dataframe\">\n",
       "  <thead>\n",
       "    <tr style=\"text-align: right;\">\n",
       "      <th></th>\n",
       "      <th>circuitId</th>\n",
       "      <th>circuitRef</th>\n",
       "      <th>name</th>\n",
       "      <th>location</th>\n",
       "      <th>country</th>\n",
       "      <th>lat</th>\n",
       "      <th>lng</th>\n",
       "      <th>alt</th>\n",
       "      <th>url</th>\n",
       "    </tr>\n",
       "  </thead>\n",
       "  <tbody>\n",
       "  </tbody>\n",
       "</table>\n",
       "</div>"
      ]
     },
     "execution_count": 10,
     "metadata": {},
     "output_type": "execute_result"
    }
   ],
   "execution_count": 10
  },
  {
   "metadata": {},
   "cell_type": "markdown",
   "source": "Não foi encontrado nenhum registro duplicado.",
   "id": "151383eb497232a"
  },
  {
   "metadata": {},
   "cell_type": "markdown",
   "source": "## Análise Descritiva das Variáveis Numéricas",
   "id": "3b90ebe14a222afd"
  },
  {
   "metadata": {
    "ExecuteTime": {
     "end_time": "2025-05-27T22:38:01.977827Z",
     "start_time": "2025-05-27T22:38:01.954766Z"
    }
   },
   "cell_type": "code",
   "source": [
    "# Resumo estatístico das variáveis numéricas\n",
    "df.describe()"
   ],
   "id": "d6459f5c344a33a3",
   "outputs": [
    {
     "data": {
      "text/plain": [
       "       circuitId        lat         lng          alt\n",
       "count  77.000000  77.000000   77.000000    77.000000\n",
       "mean   39.883117  33.442925    1.076683   247.012987\n",
       "std    23.001701  22.808866   65.516951   362.738469\n",
       "min     1.000000 -37.849700 -118.189000    -7.000000\n",
       "25%    20.000000  32.777400   -9.394170    18.000000\n",
       "50%    40.000000  40.951700    3.930830   129.000000\n",
       "75%    59.000000  46.958900   19.248600   332.000000\n",
       "max    80.000000  57.265300  144.968000  2227.000000"
      ],
      "text/html": [
       "<div>\n",
       "<style scoped>\n",
       "    .dataframe tbody tr th:only-of-type {\n",
       "        vertical-align: middle;\n",
       "    }\n",
       "\n",
       "    .dataframe tbody tr th {\n",
       "        vertical-align: top;\n",
       "    }\n",
       "\n",
       "    .dataframe thead th {\n",
       "        text-align: right;\n",
       "    }\n",
       "</style>\n",
       "<table border=\"1\" class=\"dataframe\">\n",
       "  <thead>\n",
       "    <tr style=\"text-align: right;\">\n",
       "      <th></th>\n",
       "      <th>circuitId</th>\n",
       "      <th>lat</th>\n",
       "      <th>lng</th>\n",
       "      <th>alt</th>\n",
       "    </tr>\n",
       "  </thead>\n",
       "  <tbody>\n",
       "    <tr>\n",
       "      <th>count</th>\n",
       "      <td>77.000000</td>\n",
       "      <td>77.000000</td>\n",
       "      <td>77.000000</td>\n",
       "      <td>77.000000</td>\n",
       "    </tr>\n",
       "    <tr>\n",
       "      <th>mean</th>\n",
       "      <td>39.883117</td>\n",
       "      <td>33.442925</td>\n",
       "      <td>1.076683</td>\n",
       "      <td>247.012987</td>\n",
       "    </tr>\n",
       "    <tr>\n",
       "      <th>std</th>\n",
       "      <td>23.001701</td>\n",
       "      <td>22.808866</td>\n",
       "      <td>65.516951</td>\n",
       "      <td>362.738469</td>\n",
       "    </tr>\n",
       "    <tr>\n",
       "      <th>min</th>\n",
       "      <td>1.000000</td>\n",
       "      <td>-37.849700</td>\n",
       "      <td>-118.189000</td>\n",
       "      <td>-7.000000</td>\n",
       "    </tr>\n",
       "    <tr>\n",
       "      <th>25%</th>\n",
       "      <td>20.000000</td>\n",
       "      <td>32.777400</td>\n",
       "      <td>-9.394170</td>\n",
       "      <td>18.000000</td>\n",
       "    </tr>\n",
       "    <tr>\n",
       "      <th>50%</th>\n",
       "      <td>40.000000</td>\n",
       "      <td>40.951700</td>\n",
       "      <td>3.930830</td>\n",
       "      <td>129.000000</td>\n",
       "    </tr>\n",
       "    <tr>\n",
       "      <th>75%</th>\n",
       "      <td>59.000000</td>\n",
       "      <td>46.958900</td>\n",
       "      <td>19.248600</td>\n",
       "      <td>332.000000</td>\n",
       "    </tr>\n",
       "    <tr>\n",
       "      <th>max</th>\n",
       "      <td>80.000000</td>\n",
       "      <td>57.265300</td>\n",
       "      <td>144.968000</td>\n",
       "      <td>2227.000000</td>\n",
       "    </tr>\n",
       "  </tbody>\n",
       "</table>\n",
       "</div>"
      ]
     },
     "execution_count": 11,
     "metadata": {},
     "output_type": "execute_result"
    }
   ],
   "execution_count": 11
  },
  {
   "metadata": {},
   "cell_type": "markdown",
   "source": [
    "A partir do resumo acima, nota-se que temos 77 registros únicos de circuitos, mas o ID máximo é 80, sugerindo que alguns IDs podem estar faltando.\n",
    "\n",
    "Com relação às variáveis `lat` e `lng` não foram identificadas inconsistências estatísticas que possam ser observadas na análise descritiva. O valor mínimo da variável `alt` representa um valor negativo, o que pode representar algum tipo de inconsistência."
   ],
   "id": "a7226b100ab0181a"
  },
  {
   "metadata": {
    "ExecuteTime": {
     "end_time": "2025-05-27T22:38:02.242417Z",
     "start_time": "2025-05-27T22:38:02.234902Z"
    }
   },
   "cell_type": "code",
   "source": [
    "# Listagem dos IDs dos circuitos para identificar os IDs faltantes\n",
    "df['circuitId']"
   ],
   "id": "377899a63aa023a1",
   "outputs": [
    {
     "data": {
      "text/plain": [
       "0      1\n",
       "1      2\n",
       "2      3\n",
       "3      4\n",
       "4      5\n",
       "      ..\n",
       "72    75\n",
       "73    76\n",
       "74    77\n",
       "75    78\n",
       "76    79\n",
       "Name: circuitId, Length: 77, dtype: int64"
      ]
     },
     "execution_count": 12,
     "metadata": {},
     "output_type": "execute_result"
    }
   ],
   "execution_count": 12
  },
  {
   "metadata": {},
   "cell_type": "markdown",
   "source": "Ao observar os IDs acima, é possível identificar que os IDs 23, 72 e 74 não estão presentes no dataset. No entanto, a ausência desses identificadores não implica necessariamente a ausência de circuitos, podendo refletir apenas uma descontinuidade natural na numeração.",
   "id": "2ceb44af7df72ec0"
  },
  {
   "metadata": {
    "ExecuteTime": {
     "end_time": "2025-05-27T22:38:02.460551Z",
     "start_time": "2025-05-27T22:38:02.441797Z"
    }
   },
   "cell_type": "code",
   "source": [
    "# Busca de localizações que possuem altitude negativa\n",
    "df[df.alt < 0]"
   ],
   "id": "d5452293a21c195",
   "outputs": [
    {
     "data": {
      "text/plain": [
       "    circuitId circuitRef               name location     country      lat  \\\n",
       "71         73       baku  Baku City Circuit     Baku  Azerbaijan  40.3725   \n",
       "\n",
       "        lng  alt                                             url  \n",
       "71  49.8533   -7  http://en.wikipedia.org/wiki/Baku_City_Circuit  "
      ],
      "text/html": [
       "<div>\n",
       "<style scoped>\n",
       "    .dataframe tbody tr th:only-of-type {\n",
       "        vertical-align: middle;\n",
       "    }\n",
       "\n",
       "    .dataframe tbody tr th {\n",
       "        vertical-align: top;\n",
       "    }\n",
       "\n",
       "    .dataframe thead th {\n",
       "        text-align: right;\n",
       "    }\n",
       "</style>\n",
       "<table border=\"1\" class=\"dataframe\">\n",
       "  <thead>\n",
       "    <tr style=\"text-align: right;\">\n",
       "      <th></th>\n",
       "      <th>circuitId</th>\n",
       "      <th>circuitRef</th>\n",
       "      <th>name</th>\n",
       "      <th>location</th>\n",
       "      <th>country</th>\n",
       "      <th>lat</th>\n",
       "      <th>lng</th>\n",
       "      <th>alt</th>\n",
       "      <th>url</th>\n",
       "    </tr>\n",
       "  </thead>\n",
       "  <tbody>\n",
       "    <tr>\n",
       "      <th>71</th>\n",
       "      <td>73</td>\n",
       "      <td>baku</td>\n",
       "      <td>Baku City Circuit</td>\n",
       "      <td>Baku</td>\n",
       "      <td>Azerbaijan</td>\n",
       "      <td>40.3725</td>\n",
       "      <td>49.8533</td>\n",
       "      <td>-7</td>\n",
       "      <td>http://en.wikipedia.org/wiki/Baku_City_Circuit</td>\n",
       "    </tr>\n",
       "  </tbody>\n",
       "</table>\n",
       "</div>"
      ]
     },
     "execution_count": 13,
     "metadata": {},
     "output_type": "execute_result"
    }
   ],
   "execution_count": 13
  },
  {
   "metadata": {},
   "cell_type": "markdown",
   "source": "A única ocorrência de uma localização com altitude negativa é o Circuito da Cidade de Baku, no Azerbaijão. Essa localização está situada 28 metros abaixo do nível do mar, o que confirma a veracidade desse dado.",
   "id": "28f388acbef39f0d"
  },
  {
   "metadata": {},
   "cell_type": "markdown",
   "source": "## Análise da Variável `country`",
   "id": "fc49aa66e1787b06"
  },
  {
   "metadata": {
    "ExecuteTime": {
     "end_time": "2025-05-27T22:38:02.662452Z",
     "start_time": "2025-05-27T22:38:02.653938Z"
    }
   },
   "cell_type": "code",
   "source": "df['country'].value_counts()",
   "id": "809bbc65a893a0bd",
   "outputs": [
    {
     "data": {
      "text/plain": [
       "USA              11\n",
       "France            7\n",
       "Spain             6\n",
       "Portugal          4\n",
       "UK                4\n",
       "Italy             4\n",
       "Japan             3\n",
       "Canada            3\n",
       "Germany           3\n",
       "Belgium           3\n",
       "Austria           2\n",
       "South Africa      2\n",
       "Brazil            2\n",
       "Australia         2\n",
       "Singapore         1\n",
       "Netherlands       1\n",
       "Saudi Arabia      1\n",
       "Azerbaijan        1\n",
       "Russia            1\n",
       "India             1\n",
       "Switzerland       1\n",
       "Morocco           1\n",
       "Bahrain           1\n",
       "Sweden            1\n",
       "Korea             1\n",
       "China             1\n",
       "Mexico            1\n",
       "Turkey            1\n",
       "Monaco            1\n",
       "Argentina         1\n",
       "UAE               1\n",
       "United States     1\n",
       "Malaysia          1\n",
       "Hungary           1\n",
       "Qatar             1\n",
       "Name: country, dtype: int64"
      ]
     },
     "execution_count": 14,
     "metadata": {},
     "output_type": "execute_result"
    }
   ],
   "execution_count": 14
  },
  {
   "metadata": {},
   "cell_type": "markdown",
   "source": "A análise da coluna `country` revelou uma inconsistência nos padrões dos dados: 11 registros com o valor `USA` e 1 registro com o valor `United States`, embora ambos representem o mesmo país.",
   "id": "d09299e614fec522"
  },
  {
   "metadata": {
    "ExecuteTime": {
     "end_time": "2025-05-27T22:38:02.895911Z",
     "start_time": "2025-05-27T22:38:02.882401Z"
    }
   },
   "cell_type": "code",
   "source": "df[(df.country == 'United States') | (df.country == 'USA')]",
   "id": "c3c71d415f5299a4",
   "outputs": [
    {
     "data": {
      "text/plain": [
       "    circuitId    circuitRef                             name        location  \\\n",
       "18         19  indianapolis      Indianapolis Motor Speedway    Indianapolis   \n",
       "22         80         vegas   Las Vegas Strip Street Circuit       Las Vegas   \n",
       "32         33       phoenix           Phoenix street circuit         Phoenix   \n",
       "36         37       detroit           Detroit Street Circuit         Detroit   \n",
       "41         42        dallas                        Fair Park          Dallas   \n",
       "42         43    long_beach                       Long Beach      California   \n",
       "43         44     las_vegas         Las Vegas Street Circuit          Nevada   \n",
       "45         46  watkins_glen                     Watkins Glen  New York State   \n",
       "59         60     riverside  Riverside International Raceway      California   \n",
       "62         63       sebring    Sebring International Raceway         Florida   \n",
       "68         69      americas          Circuit of the Americas          Austin   \n",
       "76         79         miami    Miami International Autodrome           Miami   \n",
       "\n",
       "          country      lat       lng  alt  \\\n",
       "18            USA  39.7950  -86.2347  223   \n",
       "22  United States  36.1147 -115.1730  642   \n",
       "32            USA  33.4479 -112.0750  345   \n",
       "36            USA  42.3298  -83.0401  177   \n",
       "41            USA  32.7774  -96.7587  139   \n",
       "42            USA  33.7651 -118.1890   12   \n",
       "43            USA  36.1162 -115.1740  639   \n",
       "45            USA  42.3369  -76.9272  485   \n",
       "59            USA  33.9370 -117.2730  470   \n",
       "62            USA  27.4547  -81.3483   18   \n",
       "68            USA  30.1328  -97.6411  161   \n",
       "76            USA  25.9581  -80.2389    0   \n",
       "\n",
       "                                                  url  \n",
       "18  http://en.wikipedia.org/wiki/Indianapolis_Moto...  \n",
       "22  https://en.wikipedia.org/wiki/Las_Vegas_Grand_...  \n",
       "32  http://en.wikipedia.org/wiki/Phoenix_street_ci...  \n",
       "36  http://en.wikipedia.org/wiki/Detroit_street_ci...  \n",
       "41             http://en.wikipedia.org/wiki/Fair_Park  \n",
       "42  http://en.wikipedia.org/wiki/Long_Beach,_Calif...  \n",
       "43  http://en.wikipedia.org/wiki/Las_Vegas_Street_...  \n",
       "45  http://en.wikipedia.org/wiki/Watkins_Glen_Inte...  \n",
       "59  http://en.wikipedia.org/wiki/Riverside_Interna...  \n",
       "62       http://en.wikipedia.org/wiki/Sebring_Raceway  \n",
       "68  http://en.wikipedia.org/wiki/Circuit_of_the_Am...  \n",
       "76  http://en.wikipedia.org/wiki/Miami_Internation...  "
      ],
      "text/html": [
       "<div>\n",
       "<style scoped>\n",
       "    .dataframe tbody tr th:only-of-type {\n",
       "        vertical-align: middle;\n",
       "    }\n",
       "\n",
       "    .dataframe tbody tr th {\n",
       "        vertical-align: top;\n",
       "    }\n",
       "\n",
       "    .dataframe thead th {\n",
       "        text-align: right;\n",
       "    }\n",
       "</style>\n",
       "<table border=\"1\" class=\"dataframe\">\n",
       "  <thead>\n",
       "    <tr style=\"text-align: right;\">\n",
       "      <th></th>\n",
       "      <th>circuitId</th>\n",
       "      <th>circuitRef</th>\n",
       "      <th>name</th>\n",
       "      <th>location</th>\n",
       "      <th>country</th>\n",
       "      <th>lat</th>\n",
       "      <th>lng</th>\n",
       "      <th>alt</th>\n",
       "      <th>url</th>\n",
       "    </tr>\n",
       "  </thead>\n",
       "  <tbody>\n",
       "    <tr>\n",
       "      <th>18</th>\n",
       "      <td>19</td>\n",
       "      <td>indianapolis</td>\n",
       "      <td>Indianapolis Motor Speedway</td>\n",
       "      <td>Indianapolis</td>\n",
       "      <td>USA</td>\n",
       "      <td>39.7950</td>\n",
       "      <td>-86.2347</td>\n",
       "      <td>223</td>\n",
       "      <td>http://en.wikipedia.org/wiki/Indianapolis_Moto...</td>\n",
       "    </tr>\n",
       "    <tr>\n",
       "      <th>22</th>\n",
       "      <td>80</td>\n",
       "      <td>vegas</td>\n",
       "      <td>Las Vegas Strip Street Circuit</td>\n",
       "      <td>Las Vegas</td>\n",
       "      <td>United States</td>\n",
       "      <td>36.1147</td>\n",
       "      <td>-115.1730</td>\n",
       "      <td>642</td>\n",
       "      <td>https://en.wikipedia.org/wiki/Las_Vegas_Grand_...</td>\n",
       "    </tr>\n",
       "    <tr>\n",
       "      <th>32</th>\n",
       "      <td>33</td>\n",
       "      <td>phoenix</td>\n",
       "      <td>Phoenix street circuit</td>\n",
       "      <td>Phoenix</td>\n",
       "      <td>USA</td>\n",
       "      <td>33.4479</td>\n",
       "      <td>-112.0750</td>\n",
       "      <td>345</td>\n",
       "      <td>http://en.wikipedia.org/wiki/Phoenix_street_ci...</td>\n",
       "    </tr>\n",
       "    <tr>\n",
       "      <th>36</th>\n",
       "      <td>37</td>\n",
       "      <td>detroit</td>\n",
       "      <td>Detroit Street Circuit</td>\n",
       "      <td>Detroit</td>\n",
       "      <td>USA</td>\n",
       "      <td>42.3298</td>\n",
       "      <td>-83.0401</td>\n",
       "      <td>177</td>\n",
       "      <td>http://en.wikipedia.org/wiki/Detroit_street_ci...</td>\n",
       "    </tr>\n",
       "    <tr>\n",
       "      <th>41</th>\n",
       "      <td>42</td>\n",
       "      <td>dallas</td>\n",
       "      <td>Fair Park</td>\n",
       "      <td>Dallas</td>\n",
       "      <td>USA</td>\n",
       "      <td>32.7774</td>\n",
       "      <td>-96.7587</td>\n",
       "      <td>139</td>\n",
       "      <td>http://en.wikipedia.org/wiki/Fair_Park</td>\n",
       "    </tr>\n",
       "    <tr>\n",
       "      <th>42</th>\n",
       "      <td>43</td>\n",
       "      <td>long_beach</td>\n",
       "      <td>Long Beach</td>\n",
       "      <td>California</td>\n",
       "      <td>USA</td>\n",
       "      <td>33.7651</td>\n",
       "      <td>-118.1890</td>\n",
       "      <td>12</td>\n",
       "      <td>http://en.wikipedia.org/wiki/Long_Beach,_Calif...</td>\n",
       "    </tr>\n",
       "    <tr>\n",
       "      <th>43</th>\n",
       "      <td>44</td>\n",
       "      <td>las_vegas</td>\n",
       "      <td>Las Vegas Street Circuit</td>\n",
       "      <td>Nevada</td>\n",
       "      <td>USA</td>\n",
       "      <td>36.1162</td>\n",
       "      <td>-115.1740</td>\n",
       "      <td>639</td>\n",
       "      <td>http://en.wikipedia.org/wiki/Las_Vegas_Street_...</td>\n",
       "    </tr>\n",
       "    <tr>\n",
       "      <th>45</th>\n",
       "      <td>46</td>\n",
       "      <td>watkins_glen</td>\n",
       "      <td>Watkins Glen</td>\n",
       "      <td>New York State</td>\n",
       "      <td>USA</td>\n",
       "      <td>42.3369</td>\n",
       "      <td>-76.9272</td>\n",
       "      <td>485</td>\n",
       "      <td>http://en.wikipedia.org/wiki/Watkins_Glen_Inte...</td>\n",
       "    </tr>\n",
       "    <tr>\n",
       "      <th>59</th>\n",
       "      <td>60</td>\n",
       "      <td>riverside</td>\n",
       "      <td>Riverside International Raceway</td>\n",
       "      <td>California</td>\n",
       "      <td>USA</td>\n",
       "      <td>33.9370</td>\n",
       "      <td>-117.2730</td>\n",
       "      <td>470</td>\n",
       "      <td>http://en.wikipedia.org/wiki/Riverside_Interna...</td>\n",
       "    </tr>\n",
       "    <tr>\n",
       "      <th>62</th>\n",
       "      <td>63</td>\n",
       "      <td>sebring</td>\n",
       "      <td>Sebring International Raceway</td>\n",
       "      <td>Florida</td>\n",
       "      <td>USA</td>\n",
       "      <td>27.4547</td>\n",
       "      <td>-81.3483</td>\n",
       "      <td>18</td>\n",
       "      <td>http://en.wikipedia.org/wiki/Sebring_Raceway</td>\n",
       "    </tr>\n",
       "    <tr>\n",
       "      <th>68</th>\n",
       "      <td>69</td>\n",
       "      <td>americas</td>\n",
       "      <td>Circuit of the Americas</td>\n",
       "      <td>Austin</td>\n",
       "      <td>USA</td>\n",
       "      <td>30.1328</td>\n",
       "      <td>-97.6411</td>\n",
       "      <td>161</td>\n",
       "      <td>http://en.wikipedia.org/wiki/Circuit_of_the_Am...</td>\n",
       "    </tr>\n",
       "    <tr>\n",
       "      <th>76</th>\n",
       "      <td>79</td>\n",
       "      <td>miami</td>\n",
       "      <td>Miami International Autodrome</td>\n",
       "      <td>Miami</td>\n",
       "      <td>USA</td>\n",
       "      <td>25.9581</td>\n",
       "      <td>-80.2389</td>\n",
       "      <td>0</td>\n",
       "      <td>http://en.wikipedia.org/wiki/Miami_Internation...</td>\n",
       "    </tr>\n",
       "  </tbody>\n",
       "</table>\n",
       "</div>"
      ]
     },
     "execution_count": 15,
     "metadata": {},
     "output_type": "execute_result"
    }
   ],
   "execution_count": 15
  },
  {
   "metadata": {},
   "cell_type": "markdown",
   "source": "A inconsistência foi identificada no circuito `Las Vegas Strip Street Circuit`.",
   "id": "d07538b6bef6f938"
  },
  {
   "metadata": {
    "ExecuteTime": {
     "end_time": "2025-05-27T22:38:03.316920Z",
     "start_time": "2025-05-27T22:38:03.303369Z"
    }
   },
   "cell_type": "code",
   "source": [
    "# Alterando o valor 'United States' para 'USA'\n",
    "df.loc[df.country == 'United States', 'country'] = 'USA'\n",
    "df[df.circuitRef == 'vegas']"
   ],
   "id": "45efde866944dff4",
   "outputs": [
    {
     "data": {
      "text/plain": [
       "    circuitId circuitRef                            name   location country  \\\n",
       "22         80      vegas  Las Vegas Strip Street Circuit  Las Vegas     USA   \n",
       "\n",
       "        lat      lng  alt                                                url  \n",
       "22  36.1147 -115.173  642  https://en.wikipedia.org/wiki/Las_Vegas_Grand_...  "
      ],
      "text/html": [
       "<div>\n",
       "<style scoped>\n",
       "    .dataframe tbody tr th:only-of-type {\n",
       "        vertical-align: middle;\n",
       "    }\n",
       "\n",
       "    .dataframe tbody tr th {\n",
       "        vertical-align: top;\n",
       "    }\n",
       "\n",
       "    .dataframe thead th {\n",
       "        text-align: right;\n",
       "    }\n",
       "</style>\n",
       "<table border=\"1\" class=\"dataframe\">\n",
       "  <thead>\n",
       "    <tr style=\"text-align: right;\">\n",
       "      <th></th>\n",
       "      <th>circuitId</th>\n",
       "      <th>circuitRef</th>\n",
       "      <th>name</th>\n",
       "      <th>location</th>\n",
       "      <th>country</th>\n",
       "      <th>lat</th>\n",
       "      <th>lng</th>\n",
       "      <th>alt</th>\n",
       "      <th>url</th>\n",
       "    </tr>\n",
       "  </thead>\n",
       "  <tbody>\n",
       "    <tr>\n",
       "      <th>22</th>\n",
       "      <td>80</td>\n",
       "      <td>vegas</td>\n",
       "      <td>Las Vegas Strip Street Circuit</td>\n",
       "      <td>Las Vegas</td>\n",
       "      <td>USA</td>\n",
       "      <td>36.1147</td>\n",
       "      <td>-115.173</td>\n",
       "      <td>642</td>\n",
       "      <td>https://en.wikipedia.org/wiki/Las_Vegas_Grand_...</td>\n",
       "    </tr>\n",
       "  </tbody>\n",
       "</table>\n",
       "</div>"
      ]
     },
     "execution_count": 16,
     "metadata": {},
     "output_type": "execute_result"
    }
   ],
   "execution_count": 16
  },
  {
   "metadata": {
    "ExecuteTime": {
     "end_time": "2025-05-27T22:38:49.621242Z",
     "start_time": "2025-05-27T22:38:49.614726Z"
    }
   },
   "cell_type": "code",
   "source": "df.to_csv('../data_cleaned/circuits.csv', index=False)",
   "id": "df2ad04d83dc40fb",
   "outputs": [],
   "execution_count": 18
  }
 ],
 "metadata": {
  "kernelspec": {
   "display_name": "Python 3",
   "language": "python",
   "name": "python3"
  },
  "language_info": {
   "codemirror_mode": {
    "name": "ipython",
    "version": 2
   },
   "file_extension": ".py",
   "mimetype": "text/x-python",
   "name": "python",
   "nbconvert_exporter": "python",
   "pygments_lexer": "ipython2",
   "version": "2.7.6"
  }
 },
 "nbformat": 4,
 "nbformat_minor": 5
}
