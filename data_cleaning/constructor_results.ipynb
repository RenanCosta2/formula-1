{
 "cells": [
  {
   "metadata": {},
   "cell_type": "markdown",
   "source": "# Limpeza de Dados do Dataset dos Resultados dos Campeonatos dos Construtores",
   "id": "3b42c3550cfff6c3"
  },
  {
   "metadata": {
    "ExecuteTime": {
     "end_time": "2025-05-27T23:19:01.888127Z",
     "start_time": "2025-05-27T23:19:01.401140Z"
    }
   },
   "cell_type": "code",
   "source": [
    "# Import das bibliotecas\n",
    "\n",
    "import pandas as pd"
   ],
   "id": "631b8e878782b847",
   "outputs": [],
   "execution_count": 1
  },
  {
   "metadata": {
    "ExecuteTime": {
     "end_time": "2025-05-27T23:19:34.316703Z",
     "start_time": "2025-05-27T23:19:34.298166Z"
    }
   },
   "cell_type": "code",
   "source": [
    "# Lendo o arquivo csv\n",
    "df = pd.read_csv('../data/constructor_results.csv')\n",
    "df.head()"
   ],
   "id": "c38285f6d59923e4",
   "outputs": [
    {
     "data": {
      "text/plain": [
       "   constructorResultsId  raceId  constructorId  points status\n",
       "0                     1      18              1    14.0     \\N\n",
       "1                     2      18              2     8.0     \\N\n",
       "2                     3      18              3     9.0     \\N\n",
       "3                     4      18              4     5.0     \\N\n",
       "4                     5      18              5     2.0     \\N"
      ],
      "text/html": [
       "<div>\n",
       "<style scoped>\n",
       "    .dataframe tbody tr th:only-of-type {\n",
       "        vertical-align: middle;\n",
       "    }\n",
       "\n",
       "    .dataframe tbody tr th {\n",
       "        vertical-align: top;\n",
       "    }\n",
       "\n",
       "    .dataframe thead th {\n",
       "        text-align: right;\n",
       "    }\n",
       "</style>\n",
       "<table border=\"1\" class=\"dataframe\">\n",
       "  <thead>\n",
       "    <tr style=\"text-align: right;\">\n",
       "      <th></th>\n",
       "      <th>constructorResultsId</th>\n",
       "      <th>raceId</th>\n",
       "      <th>constructorId</th>\n",
       "      <th>points</th>\n",
       "      <th>status</th>\n",
       "    </tr>\n",
       "  </thead>\n",
       "  <tbody>\n",
       "    <tr>\n",
       "      <th>0</th>\n",
       "      <td>1</td>\n",
       "      <td>18</td>\n",
       "      <td>1</td>\n",
       "      <td>14.0</td>\n",
       "      <td>\\N</td>\n",
       "    </tr>\n",
       "    <tr>\n",
       "      <th>1</th>\n",
       "      <td>2</td>\n",
       "      <td>18</td>\n",
       "      <td>2</td>\n",
       "      <td>8.0</td>\n",
       "      <td>\\N</td>\n",
       "    </tr>\n",
       "    <tr>\n",
       "      <th>2</th>\n",
       "      <td>3</td>\n",
       "      <td>18</td>\n",
       "      <td>3</td>\n",
       "      <td>9.0</td>\n",
       "      <td>\\N</td>\n",
       "    </tr>\n",
       "    <tr>\n",
       "      <th>3</th>\n",
       "      <td>4</td>\n",
       "      <td>18</td>\n",
       "      <td>4</td>\n",
       "      <td>5.0</td>\n",
       "      <td>\\N</td>\n",
       "    </tr>\n",
       "    <tr>\n",
       "      <th>4</th>\n",
       "      <td>5</td>\n",
       "      <td>18</td>\n",
       "      <td>5</td>\n",
       "      <td>2.0</td>\n",
       "      <td>\\N</td>\n",
       "    </tr>\n",
       "  </tbody>\n",
       "</table>\n",
       "</div>"
      ]
     },
     "execution_count": 3,
     "metadata": {},
     "output_type": "execute_result"
    }
   ],
   "execution_count": 3
  },
  {
   "metadata": {
    "ExecuteTime": {
     "end_time": "2025-05-27T23:20:32.477976Z",
     "start_time": "2025-05-27T23:20:32.464935Z"
    }
   },
   "cell_type": "code",
   "source": "df.dtypes",
   "id": "94ffe75dca28ad66",
   "outputs": [
    {
     "data": {
      "text/plain": [
       "constructorResultsId      int64\n",
       "raceId                    int64\n",
       "constructorId             int64\n",
       "points                  float64\n",
       "status                   object\n",
       "dtype: object"
      ]
     },
     "execution_count": 4,
     "metadata": {},
     "output_type": "execute_result"
    }
   ],
   "execution_count": 4
  },
  {
   "metadata": {},
   "cell_type": "markdown",
   "source": "Os tipos das colunas não apresentam nenhuma inconsistência.",
   "id": "f71b91c18b62519"
  },
  {
   "metadata": {},
   "cell_type": "markdown",
   "source": "## Identificando Dados Ausentes",
   "id": "348b2fc8157d6636"
  },
  {
   "metadata": {
    "ExecuteTime": {
     "end_time": "2025-05-27T23:24:22.568950Z",
     "start_time": "2025-05-27T23:24:22.556930Z"
    }
   },
   "cell_type": "code",
   "source": [
    "# Verificando valores ausentes\n",
    "df.isnull().sum()"
   ],
   "id": "302c4ac9cffca59",
   "outputs": [
    {
     "data": {
      "text/plain": [
       "constructorResultsId    0\n",
       "raceId                  0\n",
       "constructorId           0\n",
       "points                  0\n",
       "status                  0\n",
       "dtype: int64"
      ]
     },
     "execution_count": 5,
     "metadata": {},
     "output_type": "execute_result"
    }
   ],
   "execution_count": 5
  },
  {
   "metadata": {},
   "cell_type": "markdown",
   "source": "Nenhum valor ausente identificado.",
   "id": "2baa9115b0bfb7a8"
  },
  {
   "metadata": {},
   "cell_type": "markdown",
   "source": "## Identificando Dados Duplicados",
   "id": "e641cdea4341ab83"
  },
  {
   "metadata": {
    "ExecuteTime": {
     "end_time": "2025-05-27T23:25:11.997420Z",
     "start_time": "2025-05-27T23:25:11.982390Z"
    }
   },
   "cell_type": "code",
   "source": [
    "# Verificação de registros duplicados\n",
    "df[df.duplicated(keep=False)]"
   ],
   "id": "9f82ea4dde1e55fd",
   "outputs": [
    {
     "data": {
      "text/plain": [
       "Empty DataFrame\n",
       "Columns: [constructorResultsId, raceId, constructorId, points, status]\n",
       "Index: []"
      ],
      "text/html": [
       "<div>\n",
       "<style scoped>\n",
       "    .dataframe tbody tr th:only-of-type {\n",
       "        vertical-align: middle;\n",
       "    }\n",
       "\n",
       "    .dataframe tbody tr th {\n",
       "        vertical-align: top;\n",
       "    }\n",
       "\n",
       "    .dataframe thead th {\n",
       "        text-align: right;\n",
       "    }\n",
       "</style>\n",
       "<table border=\"1\" class=\"dataframe\">\n",
       "  <thead>\n",
       "    <tr style=\"text-align: right;\">\n",
       "      <th></th>\n",
       "      <th>constructorResultsId</th>\n",
       "      <th>raceId</th>\n",
       "      <th>constructorId</th>\n",
       "      <th>points</th>\n",
       "      <th>status</th>\n",
       "    </tr>\n",
       "  </thead>\n",
       "  <tbody>\n",
       "  </tbody>\n",
       "</table>\n",
       "</div>"
      ]
     },
     "execution_count": 6,
     "metadata": {},
     "output_type": "execute_result"
    }
   ],
   "execution_count": 6
  },
  {
   "metadata": {
    "ExecuteTime": {
     "end_time": "2025-05-27T23:26:02.445047Z",
     "start_time": "2025-05-27T23:26:02.438521Z"
    }
   },
   "cell_type": "code",
   "source": [
    "# Verificação de registros duplicados\n",
    "df[df.duplicated(subset=['constructorResultsId'], keep=False)]"
   ],
   "id": "42746ab153345079",
   "outputs": [
    {
     "data": {
      "text/plain": [
       "Empty DataFrame\n",
       "Columns: [constructorResultsId, raceId, constructorId, points, status]\n",
       "Index: []"
      ],
      "text/html": [
       "<div>\n",
       "<style scoped>\n",
       "    .dataframe tbody tr th:only-of-type {\n",
       "        vertical-align: middle;\n",
       "    }\n",
       "\n",
       "    .dataframe tbody tr th {\n",
       "        vertical-align: top;\n",
       "    }\n",
       "\n",
       "    .dataframe thead th {\n",
       "        text-align: right;\n",
       "    }\n",
       "</style>\n",
       "<table border=\"1\" class=\"dataframe\">\n",
       "  <thead>\n",
       "    <tr style=\"text-align: right;\">\n",
       "      <th></th>\n",
       "      <th>constructorResultsId</th>\n",
       "      <th>raceId</th>\n",
       "      <th>constructorId</th>\n",
       "      <th>points</th>\n",
       "      <th>status</th>\n",
       "    </tr>\n",
       "  </thead>\n",
       "  <tbody>\n",
       "  </tbody>\n",
       "</table>\n",
       "</div>"
      ]
     },
     "execution_count": 7,
     "metadata": {},
     "output_type": "execute_result"
    }
   ],
   "execution_count": 7
  },
  {
   "metadata": {},
   "cell_type": "markdown",
   "source": "Não foi encontrado nenhum registro duplicado.",
   "id": "4b1a09e972a5750f"
  },
  {
   "metadata": {},
   "cell_type": "markdown",
   "source": "## Análise Descritiva das Variáveis Numéricas\n",
   "id": "282a3c45955d48c2"
  },
  {
   "metadata": {
    "ExecuteTime": {
     "end_time": "2025-05-28T00:23:06.716132Z",
     "start_time": "2025-05-28T00:23:06.703115Z"
    }
   },
   "cell_type": "code",
   "source": [
    "# Resumo estatístico das variáveis numéricas\n",
    "df.describe()"
   ],
   "id": "9e73179af7da5f1f",
   "outputs": [
    {
     "data": {
      "text/plain": [
       "       constructorResultsId        raceId  constructorId        points\n",
       "count          12625.000000  12625.000000   12625.000000  12625.000000\n",
       "mean            8424.500594    528.235802      45.956119      4.053545\n",
       "std             5666.310522    314.793555      59.468418      7.862202\n",
       "min                1.000000      1.000000       1.000000      0.000000\n",
       "25%             3157.000000    287.000000       6.000000      0.000000\n",
       "50%             6313.000000    487.000000      22.000000      0.000000\n",
       "75%            13965.000000    751.000000      54.000000      5.000000\n",
       "max            17129.000000   1144.000000     215.000000     66.000000"
      ],
      "text/html": [
       "<div>\n",
       "<style scoped>\n",
       "    .dataframe tbody tr th:only-of-type {\n",
       "        vertical-align: middle;\n",
       "    }\n",
       "\n",
       "    .dataframe tbody tr th {\n",
       "        vertical-align: top;\n",
       "    }\n",
       "\n",
       "    .dataframe thead th {\n",
       "        text-align: right;\n",
       "    }\n",
       "</style>\n",
       "<table border=\"1\" class=\"dataframe\">\n",
       "  <thead>\n",
       "    <tr style=\"text-align: right;\">\n",
       "      <th></th>\n",
       "      <th>constructorResultsId</th>\n",
       "      <th>raceId</th>\n",
       "      <th>constructorId</th>\n",
       "      <th>points</th>\n",
       "    </tr>\n",
       "  </thead>\n",
       "  <tbody>\n",
       "    <tr>\n",
       "      <th>count</th>\n",
       "      <td>12625.000000</td>\n",
       "      <td>12625.000000</td>\n",
       "      <td>12625.000000</td>\n",
       "      <td>12625.000000</td>\n",
       "    </tr>\n",
       "    <tr>\n",
       "      <th>mean</th>\n",
       "      <td>8424.500594</td>\n",
       "      <td>528.235802</td>\n",
       "      <td>45.956119</td>\n",
       "      <td>4.053545</td>\n",
       "    </tr>\n",
       "    <tr>\n",
       "      <th>std</th>\n",
       "      <td>5666.310522</td>\n",
       "      <td>314.793555</td>\n",
       "      <td>59.468418</td>\n",
       "      <td>7.862202</td>\n",
       "    </tr>\n",
       "    <tr>\n",
       "      <th>min</th>\n",
       "      <td>1.000000</td>\n",
       "      <td>1.000000</td>\n",
       "      <td>1.000000</td>\n",
       "      <td>0.000000</td>\n",
       "    </tr>\n",
       "    <tr>\n",
       "      <th>25%</th>\n",
       "      <td>3157.000000</td>\n",
       "      <td>287.000000</td>\n",
       "      <td>6.000000</td>\n",
       "      <td>0.000000</td>\n",
       "    </tr>\n",
       "    <tr>\n",
       "      <th>50%</th>\n",
       "      <td>6313.000000</td>\n",
       "      <td>487.000000</td>\n",
       "      <td>22.000000</td>\n",
       "      <td>0.000000</td>\n",
       "    </tr>\n",
       "    <tr>\n",
       "      <th>75%</th>\n",
       "      <td>13965.000000</td>\n",
       "      <td>751.000000</td>\n",
       "      <td>54.000000</td>\n",
       "      <td>5.000000</td>\n",
       "    </tr>\n",
       "    <tr>\n",
       "      <th>max</th>\n",
       "      <td>17129.000000</td>\n",
       "      <td>1144.000000</td>\n",
       "      <td>215.000000</td>\n",
       "      <td>66.000000</td>\n",
       "    </tr>\n",
       "  </tbody>\n",
       "</table>\n",
       "</div>"
      ]
     },
     "execution_count": 12,
     "metadata": {},
     "output_type": "execute_result"
    }
   ],
   "execution_count": 12
  },
  {
   "metadata": {},
   "cell_type": "markdown",
   "source": "Observando a análise estatística acima não foram identificadas inconsistências em nenhuma variável. Na coluna `points`, mesmo com a expressiva diferença do valor máximo para o restante, são valores comuns no sistema de pontos da fórmula 1 ao longo da história. Uma única exceção (a que causou o máximo de 66 pontos) do GP de Abu Dhabi em 2014, que foi uma corrida com pontuação dobrada.",
   "id": "6bbc6d12225ce52"
  },
  {
   "metadata": {},
   "cell_type": "markdown",
   "source": "## Análise da Variável `status`",
   "id": "a1384d5da494fc35"
  },
  {
   "metadata": {
    "ExecuteTime": {
     "end_time": "2025-05-27T23:35:50.035321Z",
     "start_time": "2025-05-27T23:35:50.022792Z"
    }
   },
   "cell_type": "code",
   "source": "df['status'].value_counts()",
   "id": "fccbe4d1ef98a834",
   "outputs": [
    {
     "data": {
      "text/plain": [
       "\\N    12608\n",
       "D        17\n",
       "Name: status, dtype: int64"
      ]
     },
     "execution_count": 9,
     "metadata": {},
     "output_type": "execute_result"
    }
   ],
   "execution_count": 9
  },
  {
   "metadata": {},
   "cell_type": "markdown",
   "source": "A análise da coluna `status` demonstra que apenas 17 registros possuem o status \"D\" (disqualified).",
   "id": "270fd1c9dd5a1f59"
  },
  {
   "metadata": {
    "ExecuteTime": {
     "end_time": "2025-05-27T23:36:18.031333Z",
     "start_time": "2025-05-27T23:36:18.017673Z"
    }
   },
   "cell_type": "code",
   "source": "df[df.status == 'D']",
   "id": "6561fa65a98c09ab",
   "outputs": [
    {
     "data": {
      "text/plain": [
       "     constructorResultsId  raceId  constructorId  points status\n",
       "185                   186      36              1    14.0      D\n",
       "195                   196      37              1    18.0      D\n",
       "207                   208      38              1    12.0      D\n",
       "218                   219      39              1    14.0      D\n",
       "228                   229      40              1    18.0      D\n",
       "239                   240      41              1    12.0      D\n",
       "250                   251      42              1    18.0      D\n",
       "262                   263      43              1     8.0      D\n",
       "273                   274      44              1    14.0      D\n",
       "283                   284      45              1    10.0      D\n",
       "294                   295      46              1    15.0      D\n",
       "306                   307      47              1    10.0      D\n",
       "316                   317      48              1    18.0      D\n",
       "328                   329      49              1    11.0      D\n",
       "338                   339      50              1    10.0      D\n",
       "350                   351      51              1     8.0      D\n",
       "361                   362      52              1     8.0      D"
      ],
      "text/html": [
       "<div>\n",
       "<style scoped>\n",
       "    .dataframe tbody tr th:only-of-type {\n",
       "        vertical-align: middle;\n",
       "    }\n",
       "\n",
       "    .dataframe tbody tr th {\n",
       "        vertical-align: top;\n",
       "    }\n",
       "\n",
       "    .dataframe thead th {\n",
       "        text-align: right;\n",
       "    }\n",
       "</style>\n",
       "<table border=\"1\" class=\"dataframe\">\n",
       "  <thead>\n",
       "    <tr style=\"text-align: right;\">\n",
       "      <th></th>\n",
       "      <th>constructorResultsId</th>\n",
       "      <th>raceId</th>\n",
       "      <th>constructorId</th>\n",
       "      <th>points</th>\n",
       "      <th>status</th>\n",
       "    </tr>\n",
       "  </thead>\n",
       "  <tbody>\n",
       "    <tr>\n",
       "      <th>185</th>\n",
       "      <td>186</td>\n",
       "      <td>36</td>\n",
       "      <td>1</td>\n",
       "      <td>14.0</td>\n",
       "      <td>D</td>\n",
       "    </tr>\n",
       "    <tr>\n",
       "      <th>195</th>\n",
       "      <td>196</td>\n",
       "      <td>37</td>\n",
       "      <td>1</td>\n",
       "      <td>18.0</td>\n",
       "      <td>D</td>\n",
       "    </tr>\n",
       "    <tr>\n",
       "      <th>207</th>\n",
       "      <td>208</td>\n",
       "      <td>38</td>\n",
       "      <td>1</td>\n",
       "      <td>12.0</td>\n",
       "      <td>D</td>\n",
       "    </tr>\n",
       "    <tr>\n",
       "      <th>218</th>\n",
       "      <td>219</td>\n",
       "      <td>39</td>\n",
       "      <td>1</td>\n",
       "      <td>14.0</td>\n",
       "      <td>D</td>\n",
       "    </tr>\n",
       "    <tr>\n",
       "      <th>228</th>\n",
       "      <td>229</td>\n",
       "      <td>40</td>\n",
       "      <td>1</td>\n",
       "      <td>18.0</td>\n",
       "      <td>D</td>\n",
       "    </tr>\n",
       "    <tr>\n",
       "      <th>239</th>\n",
       "      <td>240</td>\n",
       "      <td>41</td>\n",
       "      <td>1</td>\n",
       "      <td>12.0</td>\n",
       "      <td>D</td>\n",
       "    </tr>\n",
       "    <tr>\n",
       "      <th>250</th>\n",
       "      <td>251</td>\n",
       "      <td>42</td>\n",
       "      <td>1</td>\n",
       "      <td>18.0</td>\n",
       "      <td>D</td>\n",
       "    </tr>\n",
       "    <tr>\n",
       "      <th>262</th>\n",
       "      <td>263</td>\n",
       "      <td>43</td>\n",
       "      <td>1</td>\n",
       "      <td>8.0</td>\n",
       "      <td>D</td>\n",
       "    </tr>\n",
       "    <tr>\n",
       "      <th>273</th>\n",
       "      <td>274</td>\n",
       "      <td>44</td>\n",
       "      <td>1</td>\n",
       "      <td>14.0</td>\n",
       "      <td>D</td>\n",
       "    </tr>\n",
       "    <tr>\n",
       "      <th>283</th>\n",
       "      <td>284</td>\n",
       "      <td>45</td>\n",
       "      <td>1</td>\n",
       "      <td>10.0</td>\n",
       "      <td>D</td>\n",
       "    </tr>\n",
       "    <tr>\n",
       "      <th>294</th>\n",
       "      <td>295</td>\n",
       "      <td>46</td>\n",
       "      <td>1</td>\n",
       "      <td>15.0</td>\n",
       "      <td>D</td>\n",
       "    </tr>\n",
       "    <tr>\n",
       "      <th>306</th>\n",
       "      <td>307</td>\n",
       "      <td>47</td>\n",
       "      <td>1</td>\n",
       "      <td>10.0</td>\n",
       "      <td>D</td>\n",
       "    </tr>\n",
       "    <tr>\n",
       "      <th>316</th>\n",
       "      <td>317</td>\n",
       "      <td>48</td>\n",
       "      <td>1</td>\n",
       "      <td>18.0</td>\n",
       "      <td>D</td>\n",
       "    </tr>\n",
       "    <tr>\n",
       "      <th>328</th>\n",
       "      <td>329</td>\n",
       "      <td>49</td>\n",
       "      <td>1</td>\n",
       "      <td>11.0</td>\n",
       "      <td>D</td>\n",
       "    </tr>\n",
       "    <tr>\n",
       "      <th>338</th>\n",
       "      <td>339</td>\n",
       "      <td>50</td>\n",
       "      <td>1</td>\n",
       "      <td>10.0</td>\n",
       "      <td>D</td>\n",
       "    </tr>\n",
       "    <tr>\n",
       "      <th>350</th>\n",
       "      <td>351</td>\n",
       "      <td>51</td>\n",
       "      <td>1</td>\n",
       "      <td>8.0</td>\n",
       "      <td>D</td>\n",
       "    </tr>\n",
       "    <tr>\n",
       "      <th>361</th>\n",
       "      <td>362</td>\n",
       "      <td>52</td>\n",
       "      <td>1</td>\n",
       "      <td>8.0</td>\n",
       "      <td>D</td>\n",
       "    </tr>\n",
       "  </tbody>\n",
       "</table>\n",
       "</div>"
      ]
     },
     "execution_count": 10,
     "metadata": {},
     "output_type": "execute_result"
    }
   ],
   "execution_count": 10
  },
  {
   "metadata": {},
   "cell_type": "markdown",
   "source": "Todos os registros que possuem \"D\" (desqualificado), na coluna `status`, correspondem à desqualificação da equipe da McLaren do Campeonato Mundial de Construtores de 2007, devido ao envolvimento em um caso de espionagem industrial contra Ferrari.",
   "id": "3c6bb26dfe073f11"
  },
  {
   "metadata": {
    "ExecuteTime": {
     "end_time": "2025-05-28T00:53:51.700727Z",
     "start_time": "2025-05-28T00:53:51.669655Z"
    }
   },
   "cell_type": "code",
   "source": "df.to_csv('../data_cleaned/constructor_results.csv', index=False)",
   "id": "5f8e015fc4347fe3",
   "outputs": [],
   "execution_count": 16
  }
 ],
 "metadata": {
  "kernelspec": {
   "display_name": "Python 3",
   "language": "python",
   "name": "python3"
  },
  "language_info": {
   "codemirror_mode": {
    "name": "ipython",
    "version": 2
   },
   "file_extension": ".py",
   "mimetype": "text/x-python",
   "name": "python",
   "nbconvert_exporter": "python",
   "pygments_lexer": "ipython2",
   "version": "2.7.6"
  }
 },
 "nbformat": 4,
 "nbformat_minor": 5
}
