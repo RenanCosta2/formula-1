{
 "cells": [
  {
   "metadata": {},
   "cell_type": "markdown",
   "source": "# Limpeza de Dados do Dataset das Classificações dos Construtores",
   "id": "8527927da84e29e0"
  },
  {
   "metadata": {},
   "cell_type": "code",
   "outputs": [],
   "execution_count": null,
   "source": [
    "# Import das bibliotecas\n",
    "\n",
    "import pandas as pd"
   ],
   "id": "733faa1869ebc301"
  },
  {
   "metadata": {},
   "cell_type": "code",
   "outputs": [],
   "execution_count": null,
   "source": [
    "df = pd.read_csv('../data/constructor_standings.csv')\n",
    "df.head()"
   ],
   "id": "12b504093b7bc834"
  },
  {
   "metadata": {},
   "cell_type": "code",
   "outputs": [],
   "execution_count": null,
   "source": "df.dtypes",
   "id": "da89cced256a2f61"
  },
  {
   "metadata": {},
   "cell_type": "markdown",
   "source": "Os tipos das colunas não apresentam nenhuma inconsistência.",
   "id": "eb52d2a5d9b4cf84"
  },
  {
   "metadata": {},
   "cell_type": "markdown",
   "source": "## Identificando Dados Ausentes",
   "id": "678acf02a942e5c8"
  },
  {
   "metadata": {},
   "cell_type": "code",
   "outputs": [],
   "execution_count": null,
   "source": [
    "# Verificando valores ausentes\n",
    "df.isnull().sum()"
   ],
   "id": "ab0a46f9722ae034"
  },
  {
   "metadata": {},
   "cell_type": "markdown",
   "source": "Nenhum valor ausente identificado.",
   "id": "966c0cc0052cb4d3"
  },
  {
   "metadata": {},
   "cell_type": "markdown",
   "source": "## Identificando Dados Duplicados",
   "id": "cd930ddf297d88ed"
  },
  {
   "metadata": {},
   "cell_type": "code",
   "outputs": [],
   "execution_count": null,
   "source": [
    "# Verificação de registros duplicados\n",
    "df[df.duplicated(keep=False)]"
   ],
   "id": "d13fdbc3c3a14a04"
  },
  {
   "metadata": {},
   "cell_type": "code",
   "outputs": [],
   "execution_count": null,
   "source": "df[df.duplicated(subset=['constructorStandingsId'] ,keep=False)]",
   "id": "89b377bdd5298ced"
  },
  {
   "metadata": {},
   "cell_type": "markdown",
   "source": "Não foi encontrado nenhum registro duplicado.",
   "id": "5d9ebf2ede2df3b4"
  },
  {
   "metadata": {},
   "cell_type": "markdown",
   "source": "## Análise Descritiva das Variáveis Numéricas",
   "id": "f80cce4057f01fa0"
  },
  {
   "metadata": {
    "ExecuteTime": {
     "end_time": "2025-05-28T00:49:34.578717Z",
     "start_time": "2025-05-28T00:49:34.550866Z"
    }
   },
   "cell_type": "code",
   "source": [
    "# Resumo estatístico das variáveis numéricas\n",
    "df.describe()"
   ],
   "id": "d212e13fb391da7f",
   "outputs": [
    {
     "data": {
      "text/plain": [
       "       constructorStandingsId        raceId  constructorId        points  \\\n",
       "count            13391.000000  13391.000000   13391.000000  13391.000000   \n",
       "mean             16982.110821    535.399821      49.603390     37.178515   \n",
       "std               8868.446172    307.705928      61.213953     84.346048   \n",
       "min                  1.000000      1.000000       1.000000      0.000000   \n",
       "25%               8883.500000    302.000000       6.000000      0.000000   \n",
       "50%              20634.000000    508.000000      25.000000      7.000000   \n",
       "75%              25047.500000    740.000000      58.000000     33.000000   \n",
       "max              28982.000000   1144.000000     215.000000    860.000000   \n",
       "\n",
       "           position          wins  \n",
       "count  13391.000000  13391.000000  \n",
       "mean       7.226047      0.697409  \n",
       "std        4.355923      1.879569  \n",
       "min        1.000000      0.000000  \n",
       "25%        4.000000      0.000000  \n",
       "50%        7.000000      0.000000  \n",
       "75%       10.000000      0.000000  \n",
       "max       22.000000     21.000000  "
      ],
      "text/html": [
       "<div>\n",
       "<style scoped>\n",
       "    .dataframe tbody tr th:only-of-type {\n",
       "        vertical-align: middle;\n",
       "    }\n",
       "\n",
       "    .dataframe tbody tr th {\n",
       "        vertical-align: top;\n",
       "    }\n",
       "\n",
       "    .dataframe thead th {\n",
       "        text-align: right;\n",
       "    }\n",
       "</style>\n",
       "<table border=\"1\" class=\"dataframe\">\n",
       "  <thead>\n",
       "    <tr style=\"text-align: right;\">\n",
       "      <th></th>\n",
       "      <th>constructorStandingsId</th>\n",
       "      <th>raceId</th>\n",
       "      <th>constructorId</th>\n",
       "      <th>points</th>\n",
       "      <th>position</th>\n",
       "      <th>wins</th>\n",
       "    </tr>\n",
       "  </thead>\n",
       "  <tbody>\n",
       "    <tr>\n",
       "      <th>count</th>\n",
       "      <td>13391.000000</td>\n",
       "      <td>13391.000000</td>\n",
       "      <td>13391.000000</td>\n",
       "      <td>13391.000000</td>\n",
       "      <td>13391.000000</td>\n",
       "      <td>13391.000000</td>\n",
       "    </tr>\n",
       "    <tr>\n",
       "      <th>mean</th>\n",
       "      <td>16982.110821</td>\n",
       "      <td>535.399821</td>\n",
       "      <td>49.603390</td>\n",
       "      <td>37.178515</td>\n",
       "      <td>7.226047</td>\n",
       "      <td>0.697409</td>\n",
       "    </tr>\n",
       "    <tr>\n",
       "      <th>std</th>\n",
       "      <td>8868.446172</td>\n",
       "      <td>307.705928</td>\n",
       "      <td>61.213953</td>\n",
       "      <td>84.346048</td>\n",
       "      <td>4.355923</td>\n",
       "      <td>1.879569</td>\n",
       "    </tr>\n",
       "    <tr>\n",
       "      <th>min</th>\n",
       "      <td>1.000000</td>\n",
       "      <td>1.000000</td>\n",
       "      <td>1.000000</td>\n",
       "      <td>0.000000</td>\n",
       "      <td>1.000000</td>\n",
       "      <td>0.000000</td>\n",
       "    </tr>\n",
       "    <tr>\n",
       "      <th>25%</th>\n",
       "      <td>8883.500000</td>\n",
       "      <td>302.000000</td>\n",
       "      <td>6.000000</td>\n",
       "      <td>0.000000</td>\n",
       "      <td>4.000000</td>\n",
       "      <td>0.000000</td>\n",
       "    </tr>\n",
       "    <tr>\n",
       "      <th>50%</th>\n",
       "      <td>20634.000000</td>\n",
       "      <td>508.000000</td>\n",
       "      <td>25.000000</td>\n",
       "      <td>7.000000</td>\n",
       "      <td>7.000000</td>\n",
       "      <td>0.000000</td>\n",
       "    </tr>\n",
       "    <tr>\n",
       "      <th>75%</th>\n",
       "      <td>25047.500000</td>\n",
       "      <td>740.000000</td>\n",
       "      <td>58.000000</td>\n",
       "      <td>33.000000</td>\n",
       "      <td>10.000000</td>\n",
       "      <td>0.000000</td>\n",
       "    </tr>\n",
       "    <tr>\n",
       "      <th>max</th>\n",
       "      <td>28982.000000</td>\n",
       "      <td>1144.000000</td>\n",
       "      <td>215.000000</td>\n",
       "      <td>860.000000</td>\n",
       "      <td>22.000000</td>\n",
       "      <td>21.000000</td>\n",
       "    </tr>\n",
       "  </tbody>\n",
       "</table>\n",
       "</div>"
      ]
     },
     "execution_count": 25,
     "metadata": {},
     "output_type": "execute_result"
    }
   ],
   "execution_count": 25
  },
  {
   "metadata": {},
   "cell_type": "markdown",
   "source": "Observando a análise estatística acima não foram identificadas inconsistências em nenhuma variável.",
   "id": "2666163cc19495a6"
  },
  {
   "metadata": {},
   "cell_type": "markdown",
   "source": "## Salvando o Dataset Tratado",
   "id": "dac854540cf4b932"
  },
  {
   "metadata": {
    "ExecuteTime": {
     "end_time": "2025-05-28T00:54:30.635944Z",
     "start_time": "2025-05-28T00:54:30.606272Z"
    }
   },
   "cell_type": "code",
   "source": "df.to_csv('../data_cleaned/constructor_standings.csv', index=False)",
   "id": "418b9e9e5d7c204a",
   "outputs": [],
   "execution_count": 27
  }
 ],
 "metadata": {
  "kernelspec": {
   "display_name": "Python 3",
   "language": "python",
   "name": "python3"
  },
  "language_info": {
   "codemirror_mode": {
    "name": "ipython",
    "version": 2
   },
   "file_extension": ".py",
   "mimetype": "text/x-python",
   "name": "python",
   "nbconvert_exporter": "python",
   "pygments_lexer": "ipython2",
   "version": "2.7.6"
  }
 },
 "nbformat": 4,
 "nbformat_minor": 5
}
