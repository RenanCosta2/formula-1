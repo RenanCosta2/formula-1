{
 "cells": [
  {
   "metadata": {},
   "cell_type": "markdown",
   "source": "# Limpeza de Dados do Dataset das Qualificatórias",
   "id": "746eb0581496bf17"
  },
  {
   "metadata": {
    "ExecuteTime": {
     "end_time": "2025-06-05T20:22:15.318148Z",
     "start_time": "2025-06-05T20:22:15.315330Z"
    }
   },
   "cell_type": "code",
   "source": [
    "# Import das bibliotecas\n",
    "\n",
    "import pandas as pd"
   ],
   "id": "83a152c426fd54cf",
   "outputs": [],
   "execution_count": 63
  },
  {
   "metadata": {
    "ExecuteTime": {
     "end_time": "2025-06-05T20:22:15.379918Z",
     "start_time": "2025-06-05T20:22:15.350365Z"
    }
   },
   "cell_type": "code",
   "source": [
    "# Lendo o arquivo csv\n",
    "df = pd.read_csv('../data/qualifying.csv', na_values=[\"\\\\N\"])\n",
    "df.head()"
   ],
   "id": "843dce85a06fd6",
   "outputs": [
    {
     "data": {
      "text/plain": [
       "   qualifyId  raceId  driverId  constructorId  number  position        q1  \\\n",
       "0          1      18         1              1      22         1  1:26.572   \n",
       "1          2      18         9              2       4         2  1:26.103   \n",
       "2          3      18         5              1      23         3  1:25.664   \n",
       "3          4      18        13              6       2         4  1:25.994   \n",
       "4          5      18         2              2       3         5  1:25.960   \n",
       "\n",
       "         q2        q3  \n",
       "0  1:25.187  1:26.714  \n",
       "1  1:25.315  1:26.869  \n",
       "2  1:25.452  1:27.079  \n",
       "3  1:25.691  1:27.178  \n",
       "4  1:25.518  1:27.236  "
      ],
      "text/html": [
       "<div>\n",
       "<style scoped>\n",
       "    .dataframe tbody tr th:only-of-type {\n",
       "        vertical-align: middle;\n",
       "    }\n",
       "\n",
       "    .dataframe tbody tr th {\n",
       "        vertical-align: top;\n",
       "    }\n",
       "\n",
       "    .dataframe thead th {\n",
       "        text-align: right;\n",
       "    }\n",
       "</style>\n",
       "<table border=\"1\" class=\"dataframe\">\n",
       "  <thead>\n",
       "    <tr style=\"text-align: right;\">\n",
       "      <th></th>\n",
       "      <th>qualifyId</th>\n",
       "      <th>raceId</th>\n",
       "      <th>driverId</th>\n",
       "      <th>constructorId</th>\n",
       "      <th>number</th>\n",
       "      <th>position</th>\n",
       "      <th>q1</th>\n",
       "      <th>q2</th>\n",
       "      <th>q3</th>\n",
       "    </tr>\n",
       "  </thead>\n",
       "  <tbody>\n",
       "    <tr>\n",
       "      <th>0</th>\n",
       "      <td>1</td>\n",
       "      <td>18</td>\n",
       "      <td>1</td>\n",
       "      <td>1</td>\n",
       "      <td>22</td>\n",
       "      <td>1</td>\n",
       "      <td>1:26.572</td>\n",
       "      <td>1:25.187</td>\n",
       "      <td>1:26.714</td>\n",
       "    </tr>\n",
       "    <tr>\n",
       "      <th>1</th>\n",
       "      <td>2</td>\n",
       "      <td>18</td>\n",
       "      <td>9</td>\n",
       "      <td>2</td>\n",
       "      <td>4</td>\n",
       "      <td>2</td>\n",
       "      <td>1:26.103</td>\n",
       "      <td>1:25.315</td>\n",
       "      <td>1:26.869</td>\n",
       "    </tr>\n",
       "    <tr>\n",
       "      <th>2</th>\n",
       "      <td>3</td>\n",
       "      <td>18</td>\n",
       "      <td>5</td>\n",
       "      <td>1</td>\n",
       "      <td>23</td>\n",
       "      <td>3</td>\n",
       "      <td>1:25.664</td>\n",
       "      <td>1:25.452</td>\n",
       "      <td>1:27.079</td>\n",
       "    </tr>\n",
       "    <tr>\n",
       "      <th>3</th>\n",
       "      <td>4</td>\n",
       "      <td>18</td>\n",
       "      <td>13</td>\n",
       "      <td>6</td>\n",
       "      <td>2</td>\n",
       "      <td>4</td>\n",
       "      <td>1:25.994</td>\n",
       "      <td>1:25.691</td>\n",
       "      <td>1:27.178</td>\n",
       "    </tr>\n",
       "    <tr>\n",
       "      <th>4</th>\n",
       "      <td>5</td>\n",
       "      <td>18</td>\n",
       "      <td>2</td>\n",
       "      <td>2</td>\n",
       "      <td>3</td>\n",
       "      <td>5</td>\n",
       "      <td>1:25.960</td>\n",
       "      <td>1:25.518</td>\n",
       "      <td>1:27.236</td>\n",
       "    </tr>\n",
       "  </tbody>\n",
       "</table>\n",
       "</div>"
      ]
     },
     "execution_count": 64,
     "metadata": {},
     "output_type": "execute_result"
    }
   ],
   "execution_count": 64
  },
  {
   "metadata": {
    "ExecuteTime": {
     "end_time": "2025-06-05T20:22:15.442038Z",
     "start_time": "2025-06-05T20:22:15.427991Z"
    }
   },
   "cell_type": "code",
   "source": "df.dtypes",
   "id": "b148a1f91493ed9b",
   "outputs": [
    {
     "data": {
      "text/plain": [
       "qualifyId         int64\n",
       "raceId            int64\n",
       "driverId          int64\n",
       "constructorId     int64\n",
       "number            int64\n",
       "position          int64\n",
       "q1               object\n",
       "q2               object\n",
       "q3               object\n",
       "dtype: object"
      ]
     },
     "execution_count": 65,
     "metadata": {},
     "output_type": "execute_result"
    }
   ],
   "execution_count": 65
  },
  {
   "metadata": {},
   "cell_type": "markdown",
   "source": [
    "Os tipos das colunas não apresentam nenhuma inconsistência.\n",
    "\n",
    "As colunas que representam valores de tempo estão definidas como `object`, porém os seus campos serão utilizados apenas para melhor visualização da informação. Portanto, há colunas faltantes para representar os tempos em um formato que seja possível realizar operações matemáticas."
   ],
   "id": "93b4244248496c53"
  },
  {
   "metadata": {
    "ExecuteTime": {
     "end_time": "2025-06-05T20:22:15.598794Z",
     "start_time": "2025-06-05T20:22:15.553226Z"
    }
   },
   "cell_type": "code",
   "source": [
    "# Função para converter o tempo, que está em string, em milisegundos\n",
    "def time_to_milliseconds(t):\n",
    "    if pd.isnull(t): # Caso seja um valor nulo, retorna nulo\n",
    "        return None\n",
    "    try: # Converte o tempo para milisegundos\n",
    "        minutes, rest = t.split(':') # Separa os minutos do resto da string\n",
    "        seconds, milliseconds = rest.split('.') # Separa os segundos e os milisegundos\n",
    "        total_ms = (int(minutes) * 60 + int(seconds)) * 1000 + int(milliseconds) # Soma os minutos (convertido em milisegundos), segundos (convertido em milisegundos) e milisegundos\n",
    "        return total_ms\n",
    "    except ValueError: # Caso ocorra algum erro retorna nulo\n",
    "        return None\n",
    "\n",
    "# Cria a coluna 'q1_ms' com o tempo em milisegundos\n",
    "df['q1_ms'] = df['q1'].apply(time_to_milliseconds).astype('Int64')\n",
    "# Cria a coluna 'q2_ms' com o tempo em milisegundos\n",
    "df['q2_ms'] = df['q2'].apply(time_to_milliseconds).astype('Int64')\n",
    "# Cria a coluna 'q3_ms' com o tempo em milisegundos\n",
    "df['q3_ms'] = df['q3'].apply(time_to_milliseconds).astype('Int64')\n",
    "df.dtypes"
   ],
   "id": "fdc5e8f3d23934ac",
   "outputs": [
    {
     "data": {
      "text/plain": [
       "qualifyId         int64\n",
       "raceId            int64\n",
       "driverId          int64\n",
       "constructorId     int64\n",
       "number            int64\n",
       "position          int64\n",
       "q1               object\n",
       "q2               object\n",
       "q3               object\n",
       "q1_ms             Int64\n",
       "q2_ms             Int64\n",
       "q3_ms             Int64\n",
       "dtype: object"
      ]
     },
     "execution_count": 66,
     "metadata": {},
     "output_type": "execute_result"
    }
   ],
   "execution_count": 66
  },
  {
   "metadata": {},
   "cell_type": "markdown",
   "source": "## Identificando Dados Ausentes",
   "id": "4a62f5e8cab34722"
  },
  {
   "metadata": {
    "ExecuteTime": {
     "end_time": "2025-06-05T20:22:15.800243Z",
     "start_time": "2025-06-05T20:22:15.786717Z"
    }
   },
   "cell_type": "code",
   "source": [
    "# Verificando valores ausentes\n",
    "df.isnull().sum()"
   ],
   "id": "d15be23fb4571efa",
   "outputs": [
    {
     "data": {
      "text/plain": [
       "qualifyId           0\n",
       "raceId              0\n",
       "driverId            0\n",
       "constructorId       0\n",
       "number              0\n",
       "position            0\n",
       "q1                156\n",
       "q2               4647\n",
       "q3               6865\n",
       "q1_ms             156\n",
       "q2_ms            4647\n",
       "q3_ms            6865\n",
       "dtype: int64"
      ]
     },
     "execution_count": 67,
     "metadata": {},
     "output_type": "execute_result"
    }
   ],
   "execution_count": 67
  },
  {
   "metadata": {},
   "cell_type": "markdown",
   "source": "Os dados ausentes na colunas `q1`, `q2` e `q3` são esperados, tendo em vista o formato das qualificatórias da Fórmula 1.",
   "id": "5ad86d5a2d981c4f"
  },
  {
   "metadata": {},
   "cell_type": "markdown",
   "source": "## Identificando Dados Duplicados",
   "id": "8853a3ac13fe1675"
  },
  {
   "metadata": {
    "ExecuteTime": {
     "end_time": "2025-06-05T20:22:16.033588Z",
     "start_time": "2025-06-05T20:22:16.009571Z"
    }
   },
   "cell_type": "code",
   "source": [
    "# Verificação de registros duplicados\n",
    "df[df.duplicated(keep=False)]"
   ],
   "id": "812a04bd60e75e2c",
   "outputs": [
    {
     "data": {
      "text/plain": [
       "Empty DataFrame\n",
       "Columns: [qualifyId, raceId, driverId, constructorId, number, position, q1, q2, q3, q1_ms, q2_ms, q3_ms]\n",
       "Index: []"
      ],
      "text/html": [
       "<div>\n",
       "<style scoped>\n",
       "    .dataframe tbody tr th:only-of-type {\n",
       "        vertical-align: middle;\n",
       "    }\n",
       "\n",
       "    .dataframe tbody tr th {\n",
       "        vertical-align: top;\n",
       "    }\n",
       "\n",
       "    .dataframe thead th {\n",
       "        text-align: right;\n",
       "    }\n",
       "</style>\n",
       "<table border=\"1\" class=\"dataframe\">\n",
       "  <thead>\n",
       "    <tr style=\"text-align: right;\">\n",
       "      <th></th>\n",
       "      <th>qualifyId</th>\n",
       "      <th>raceId</th>\n",
       "      <th>driverId</th>\n",
       "      <th>constructorId</th>\n",
       "      <th>number</th>\n",
       "      <th>position</th>\n",
       "      <th>q1</th>\n",
       "      <th>q2</th>\n",
       "      <th>q3</th>\n",
       "      <th>q1_ms</th>\n",
       "      <th>q2_ms</th>\n",
       "      <th>q3_ms</th>\n",
       "    </tr>\n",
       "  </thead>\n",
       "  <tbody>\n",
       "  </tbody>\n",
       "</table>\n",
       "</div>"
      ]
     },
     "execution_count": 68,
     "metadata": {},
     "output_type": "execute_result"
    }
   ],
   "execution_count": 68
  },
  {
   "metadata": {
    "ExecuteTime": {
     "end_time": "2025-06-05T20:22:16.157570Z",
     "start_time": "2025-06-05T20:22:16.143269Z"
    }
   },
   "cell_type": "code",
   "source": [
    "# Verificação de registros duplicados apenas da coluna 'qualifyId'\n",
    "df[df.duplicated(subset='qualifyId' ,keep=False)]"
   ],
   "id": "98453a3a129941b0",
   "outputs": [
    {
     "data": {
      "text/plain": [
       "Empty DataFrame\n",
       "Columns: [qualifyId, raceId, driverId, constructorId, number, position, q1, q2, q3, q1_ms, q2_ms, q3_ms]\n",
       "Index: []"
      ],
      "text/html": [
       "<div>\n",
       "<style scoped>\n",
       "    .dataframe tbody tr th:only-of-type {\n",
       "        vertical-align: middle;\n",
       "    }\n",
       "\n",
       "    .dataframe tbody tr th {\n",
       "        vertical-align: top;\n",
       "    }\n",
       "\n",
       "    .dataframe thead th {\n",
       "        text-align: right;\n",
       "    }\n",
       "</style>\n",
       "<table border=\"1\" class=\"dataframe\">\n",
       "  <thead>\n",
       "    <tr style=\"text-align: right;\">\n",
       "      <th></th>\n",
       "      <th>qualifyId</th>\n",
       "      <th>raceId</th>\n",
       "      <th>driverId</th>\n",
       "      <th>constructorId</th>\n",
       "      <th>number</th>\n",
       "      <th>position</th>\n",
       "      <th>q1</th>\n",
       "      <th>q2</th>\n",
       "      <th>q3</th>\n",
       "      <th>q1_ms</th>\n",
       "      <th>q2_ms</th>\n",
       "      <th>q3_ms</th>\n",
       "    </tr>\n",
       "  </thead>\n",
       "  <tbody>\n",
       "  </tbody>\n",
       "</table>\n",
       "</div>"
      ]
     },
     "execution_count": 69,
     "metadata": {},
     "output_type": "execute_result"
    }
   ],
   "execution_count": 69
  },
  {
   "metadata": {},
   "cell_type": "markdown",
   "source": "Não foi encontrado nenhum dado duplicado.",
   "id": "2a336cddf2e3ce29"
  },
  {
   "metadata": {},
   "cell_type": "markdown",
   "source": "## Salvando o Dataset Tratado",
   "id": "9de880556e071a7c"
  },
  {
   "metadata": {
    "ExecuteTime": {
     "end_time": "2025-06-05T20:22:16.282790Z",
     "start_time": "2025-06-05T20:22:16.253240Z"
    }
   },
   "cell_type": "code",
   "source": "df.to_csv('../data_cleaned/qualifying.csv', index=False)",
   "id": "ada010cb13d4cf21",
   "outputs": [],
   "execution_count": 70
  }
 ],
 "metadata": {
  "kernelspec": {
   "display_name": "Python 3",
   "language": "python",
   "name": "python3"
  },
  "language_info": {
   "codemirror_mode": {
    "name": "ipython",
    "version": 2
   },
   "file_extension": ".py",
   "mimetype": "text/x-python",
   "name": "python",
   "nbconvert_exporter": "python",
   "pygments_lexer": "ipython2",
   "version": "2.7.6"
  }
 },
 "nbformat": 4,
 "nbformat_minor": 5
}
