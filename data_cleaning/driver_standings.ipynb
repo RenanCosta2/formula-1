{
 "cells": [
  {
   "metadata": {},
   "cell_type": "markdown",
   "source": "# Limpeza de Dados do Dataset das Classificações dos Pilotos",
   "id": "5a7b803b23228201"
  },
  {
   "metadata": {
    "ExecuteTime": {
     "end_time": "2025-05-29T17:41:13.734714Z",
     "start_time": "2025-05-29T17:41:13.292896Z"
    }
   },
   "cell_type": "code",
   "source": [
    "# Import das bibliotecas\n",
    "\n",
    "import pandas as pd"
   ],
   "id": "ba2254d205f882d2",
   "outputs": [],
   "execution_count": 2
  },
  {
   "metadata": {
    "ExecuteTime": {
     "end_time": "2025-05-29T17:41:33.648247Z",
     "start_time": "2025-05-29T17:41:33.587887Z"
    }
   },
   "cell_type": "code",
   "source": [
    "# Lendo o arquivo csv\n",
    "df = pd.read_csv('../data/driver_standings.csv')\n",
    "df.head()"
   ],
   "id": "1f4a7259a7593d9f",
   "outputs": [
    {
     "data": {
      "text/plain": [
       "   driverStandingsId  raceId  driverId  points  position positionText  wins\n",
       "0                  1      18         1    10.0         1            1     1\n",
       "1                  2      18         2     8.0         2            2     0\n",
       "2                  3      18         3     6.0         3            3     0\n",
       "3                  4      18         4     5.0         4            4     0\n",
       "4                  5      18         5     4.0         5            5     0"
      ],
      "text/html": [
       "<div>\n",
       "<style scoped>\n",
       "    .dataframe tbody tr th:only-of-type {\n",
       "        vertical-align: middle;\n",
       "    }\n",
       "\n",
       "    .dataframe tbody tr th {\n",
       "        vertical-align: top;\n",
       "    }\n",
       "\n",
       "    .dataframe thead th {\n",
       "        text-align: right;\n",
       "    }\n",
       "</style>\n",
       "<table border=\"1\" class=\"dataframe\">\n",
       "  <thead>\n",
       "    <tr style=\"text-align: right;\">\n",
       "      <th></th>\n",
       "      <th>driverStandingsId</th>\n",
       "      <th>raceId</th>\n",
       "      <th>driverId</th>\n",
       "      <th>points</th>\n",
       "      <th>position</th>\n",
       "      <th>positionText</th>\n",
       "      <th>wins</th>\n",
       "    </tr>\n",
       "  </thead>\n",
       "  <tbody>\n",
       "    <tr>\n",
       "      <th>0</th>\n",
       "      <td>1</td>\n",
       "      <td>18</td>\n",
       "      <td>1</td>\n",
       "      <td>10.0</td>\n",
       "      <td>1</td>\n",
       "      <td>1</td>\n",
       "      <td>1</td>\n",
       "    </tr>\n",
       "    <tr>\n",
       "      <th>1</th>\n",
       "      <td>2</td>\n",
       "      <td>18</td>\n",
       "      <td>2</td>\n",
       "      <td>8.0</td>\n",
       "      <td>2</td>\n",
       "      <td>2</td>\n",
       "      <td>0</td>\n",
       "    </tr>\n",
       "    <tr>\n",
       "      <th>2</th>\n",
       "      <td>3</td>\n",
       "      <td>18</td>\n",
       "      <td>3</td>\n",
       "      <td>6.0</td>\n",
       "      <td>3</td>\n",
       "      <td>3</td>\n",
       "      <td>0</td>\n",
       "    </tr>\n",
       "    <tr>\n",
       "      <th>3</th>\n",
       "      <td>4</td>\n",
       "      <td>18</td>\n",
       "      <td>4</td>\n",
       "      <td>5.0</td>\n",
       "      <td>4</td>\n",
       "      <td>4</td>\n",
       "      <td>0</td>\n",
       "    </tr>\n",
       "    <tr>\n",
       "      <th>4</th>\n",
       "      <td>5</td>\n",
       "      <td>18</td>\n",
       "      <td>5</td>\n",
       "      <td>4.0</td>\n",
       "      <td>5</td>\n",
       "      <td>5</td>\n",
       "      <td>0</td>\n",
       "    </tr>\n",
       "  </tbody>\n",
       "</table>\n",
       "</div>"
      ]
     },
     "execution_count": 6,
     "metadata": {},
     "output_type": "execute_result"
    }
   ],
   "execution_count": 6
  },
  {
   "metadata": {
    "ExecuteTime": {
     "end_time": "2025-05-29T17:42:17.401066Z",
     "start_time": "2025-05-29T17:42:17.395551Z"
    }
   },
   "cell_type": "code",
   "source": "df.dtypes",
   "id": "d2decd4450523184",
   "outputs": [
    {
     "data": {
      "text/plain": [
       "driverStandingsId      int64\n",
       "raceId                 int64\n",
       "driverId               int64\n",
       "points               float64\n",
       "position               int64\n",
       "positionText          object\n",
       "wins                   int64\n",
       "dtype: object"
      ]
     },
     "execution_count": 7,
     "metadata": {},
     "output_type": "execute_result"
    }
   ],
   "execution_count": 7
  },
  {
   "metadata": {},
   "cell_type": "markdown",
   "source": "Os tipos das colunas não apresentam nenhuma inconsistência.",
   "id": "c56adae2609abdb1"
  },
  {
   "metadata": {},
   "cell_type": "markdown",
   "source": "## Identificando Dados Ausentes",
   "id": "d4f4ad5f989a51ff"
  },
  {
   "metadata": {
    "ExecuteTime": {
     "end_time": "2025-05-29T17:43:07.192136Z",
     "start_time": "2025-05-29T17:43:07.177599Z"
    }
   },
   "cell_type": "code",
   "source": [
    "# Verificando valores ausentes\n",
    "df.isnull().sum()"
   ],
   "id": "9b0ec8644d96ef14",
   "outputs": [
    {
     "data": {
      "text/plain": [
       "driverStandingsId    0\n",
       "raceId               0\n",
       "driverId             0\n",
       "points               0\n",
       "position             0\n",
       "positionText         0\n",
       "wins                 0\n",
       "dtype: int64"
      ]
     },
     "execution_count": 8,
     "metadata": {},
     "output_type": "execute_result"
    }
   ],
   "execution_count": 8
  },
  {
   "metadata": {},
   "cell_type": "markdown",
   "source": "Nenhum valor ausente identificado.",
   "id": "a5217a4fd2343c07"
  },
  {
   "metadata": {},
   "cell_type": "markdown",
   "source": "## Identificando Dados Duplicados",
   "id": "6e866e3d7ecf195e"
  },
  {
   "metadata": {
    "ExecuteTime": {
     "end_time": "2025-05-29T17:43:54.252309Z",
     "start_time": "2025-05-29T17:43:54.235273Z"
    }
   },
   "cell_type": "code",
   "source": [
    "# Verificação de registros duplicados\n",
    "df[df.duplicated(keep=False)]"
   ],
   "id": "a6ad3b13b7777339",
   "outputs": [
    {
     "data": {
      "text/plain": [
       "Empty DataFrame\n",
       "Columns: [driverStandingsId, raceId, driverId, points, position, positionText, wins]\n",
       "Index: []"
      ],
      "text/html": [
       "<div>\n",
       "<style scoped>\n",
       "    .dataframe tbody tr th:only-of-type {\n",
       "        vertical-align: middle;\n",
       "    }\n",
       "\n",
       "    .dataframe tbody tr th {\n",
       "        vertical-align: top;\n",
       "    }\n",
       "\n",
       "    .dataframe thead th {\n",
       "        text-align: right;\n",
       "    }\n",
       "</style>\n",
       "<table border=\"1\" class=\"dataframe\">\n",
       "  <thead>\n",
       "    <tr style=\"text-align: right;\">\n",
       "      <th></th>\n",
       "      <th>driverStandingsId</th>\n",
       "      <th>raceId</th>\n",
       "      <th>driverId</th>\n",
       "      <th>points</th>\n",
       "      <th>position</th>\n",
       "      <th>positionText</th>\n",
       "      <th>wins</th>\n",
       "    </tr>\n",
       "  </thead>\n",
       "  <tbody>\n",
       "  </tbody>\n",
       "</table>\n",
       "</div>"
      ]
     },
     "execution_count": 9,
     "metadata": {},
     "output_type": "execute_result"
    }
   ],
   "execution_count": 9
  },
  {
   "metadata": {
    "ExecuteTime": {
     "end_time": "2025-05-29T17:44:24.949852Z",
     "start_time": "2025-05-29T17:44:24.937476Z"
    }
   },
   "cell_type": "code",
   "source": "df[df.duplicated(subset=['driverStandingsId'] ,keep=False)]",
   "id": "e3052049e181a9e4",
   "outputs": [
    {
     "data": {
      "text/plain": [
       "Empty DataFrame\n",
       "Columns: [driverStandingsId, raceId, driverId, points, position, positionText, wins]\n",
       "Index: []"
      ],
      "text/html": [
       "<div>\n",
       "<style scoped>\n",
       "    .dataframe tbody tr th:only-of-type {\n",
       "        vertical-align: middle;\n",
       "    }\n",
       "\n",
       "    .dataframe tbody tr th {\n",
       "        vertical-align: top;\n",
       "    }\n",
       "\n",
       "    .dataframe thead th {\n",
       "        text-align: right;\n",
       "    }\n",
       "</style>\n",
       "<table border=\"1\" class=\"dataframe\">\n",
       "  <thead>\n",
       "    <tr style=\"text-align: right;\">\n",
       "      <th></th>\n",
       "      <th>driverStandingsId</th>\n",
       "      <th>raceId</th>\n",
       "      <th>driverId</th>\n",
       "      <th>points</th>\n",
       "      <th>position</th>\n",
       "      <th>positionText</th>\n",
       "      <th>wins</th>\n",
       "    </tr>\n",
       "  </thead>\n",
       "  <tbody>\n",
       "  </tbody>\n",
       "</table>\n",
       "</div>"
      ]
     },
     "execution_count": 10,
     "metadata": {},
     "output_type": "execute_result"
    }
   ],
   "execution_count": 10
  },
  {
   "metadata": {},
   "cell_type": "markdown",
   "source": "Não foi encontrado nenhum registro duplicado.",
   "id": "364afa31ecd7ee96"
  },
  {
   "metadata": {},
   "cell_type": "markdown",
   "source": "## Análise Descritiva das Variáveis Numéricas",
   "id": "cde87cc2cfd9882f"
  },
  {
   "metadata": {
    "ExecuteTime": {
     "end_time": "2025-05-29T17:44:57.822958Z",
     "start_time": "2025-05-29T17:44:57.785384Z"
    }
   },
   "cell_type": "code",
   "source": [
    "# Resumo estatístico das variáveis numericas\n",
    "df.describe()"
   ],
   "id": "d2e53bd1df9bad78",
   "outputs": [
    {
     "data": {
      "text/plain": [
       "       driverStandingsId        raceId      driverId        points  \\\n",
       "count       34863.000000  34863.000000  34863.000000  34863.000000   \n",
       "mean        43176.154232    584.413562    316.932909     14.704423   \n",
       "std         21934.276898    292.275820    274.665660     38.978094   \n",
       "min             1.000000      1.000000      1.000000      0.000000   \n",
       "25%         19834.500000    354.000000     88.000000      0.000000   \n",
       "50%         50044.000000    603.000000    223.000000      1.000000   \n",
       "75%         62054.500000    805.000000    521.000000     10.000000   \n",
       "max         73270.000000   1144.000000    862.000000    575.000000   \n",
       "\n",
       "           position          wins  \n",
       "count  34863.000000  34863.000000  \n",
       "mean      19.716720      0.277343  \n",
       "std       16.293401      1.032618  \n",
       "min        1.000000      0.000000  \n",
       "25%        8.000000      0.000000  \n",
       "50%       16.000000      0.000000  \n",
       "75%       26.000000      0.000000  \n",
       "max      108.000000     19.000000  "
      ],
      "text/html": [
       "<div>\n",
       "<style scoped>\n",
       "    .dataframe tbody tr th:only-of-type {\n",
       "        vertical-align: middle;\n",
       "    }\n",
       "\n",
       "    .dataframe tbody tr th {\n",
       "        vertical-align: top;\n",
       "    }\n",
       "\n",
       "    .dataframe thead th {\n",
       "        text-align: right;\n",
       "    }\n",
       "</style>\n",
       "<table border=\"1\" class=\"dataframe\">\n",
       "  <thead>\n",
       "    <tr style=\"text-align: right;\">\n",
       "      <th></th>\n",
       "      <th>driverStandingsId</th>\n",
       "      <th>raceId</th>\n",
       "      <th>driverId</th>\n",
       "      <th>points</th>\n",
       "      <th>position</th>\n",
       "      <th>wins</th>\n",
       "    </tr>\n",
       "  </thead>\n",
       "  <tbody>\n",
       "    <tr>\n",
       "      <th>count</th>\n",
       "      <td>34863.000000</td>\n",
       "      <td>34863.000000</td>\n",
       "      <td>34863.000000</td>\n",
       "      <td>34863.000000</td>\n",
       "      <td>34863.000000</td>\n",
       "      <td>34863.000000</td>\n",
       "    </tr>\n",
       "    <tr>\n",
       "      <th>mean</th>\n",
       "      <td>43176.154232</td>\n",
       "      <td>584.413562</td>\n",
       "      <td>316.932909</td>\n",
       "      <td>14.704423</td>\n",
       "      <td>19.716720</td>\n",
       "      <td>0.277343</td>\n",
       "    </tr>\n",
       "    <tr>\n",
       "      <th>std</th>\n",
       "      <td>21934.276898</td>\n",
       "      <td>292.275820</td>\n",
       "      <td>274.665660</td>\n",
       "      <td>38.978094</td>\n",
       "      <td>16.293401</td>\n",
       "      <td>1.032618</td>\n",
       "    </tr>\n",
       "    <tr>\n",
       "      <th>min</th>\n",
       "      <td>1.000000</td>\n",
       "      <td>1.000000</td>\n",
       "      <td>1.000000</td>\n",
       "      <td>0.000000</td>\n",
       "      <td>1.000000</td>\n",
       "      <td>0.000000</td>\n",
       "    </tr>\n",
       "    <tr>\n",
       "      <th>25%</th>\n",
       "      <td>19834.500000</td>\n",
       "      <td>354.000000</td>\n",
       "      <td>88.000000</td>\n",
       "      <td>0.000000</td>\n",
       "      <td>8.000000</td>\n",
       "      <td>0.000000</td>\n",
       "    </tr>\n",
       "    <tr>\n",
       "      <th>50%</th>\n",
       "      <td>50044.000000</td>\n",
       "      <td>603.000000</td>\n",
       "      <td>223.000000</td>\n",
       "      <td>1.000000</td>\n",
       "      <td>16.000000</td>\n",
       "      <td>0.000000</td>\n",
       "    </tr>\n",
       "    <tr>\n",
       "      <th>75%</th>\n",
       "      <td>62054.500000</td>\n",
       "      <td>805.000000</td>\n",
       "      <td>521.000000</td>\n",
       "      <td>10.000000</td>\n",
       "      <td>26.000000</td>\n",
       "      <td>0.000000</td>\n",
       "    </tr>\n",
       "    <tr>\n",
       "      <th>max</th>\n",
       "      <td>73270.000000</td>\n",
       "      <td>1144.000000</td>\n",
       "      <td>862.000000</td>\n",
       "      <td>575.000000</td>\n",
       "      <td>108.000000</td>\n",
       "      <td>19.000000</td>\n",
       "    </tr>\n",
       "  </tbody>\n",
       "</table>\n",
       "</div>"
      ]
     },
     "execution_count": 11,
     "metadata": {},
     "output_type": "execute_result"
    }
   ],
   "execution_count": 11
  },
  {
   "metadata": {},
   "cell_type": "markdown",
   "source": "Observando a análise estatística acima não foram identificadas inconsistências em nenhuma variável.",
   "id": "9f4eec94186fd5c8"
  },
  {
   "metadata": {},
   "cell_type": "markdown",
   "source": "## Salvando o Dataset Tratado",
   "id": "c3e6cdb03aec5761"
  },
  {
   "metadata": {
    "ExecuteTime": {
     "end_time": "2025-05-29T17:58:40.512664Z",
     "start_time": "2025-05-29T17:58:40.452516Z"
    }
   },
   "cell_type": "code",
   "source": "df.to_csv('../data_cleaned/driver_standings.csv', index=False)",
   "id": "bb0c109bf1d8ed34",
   "outputs": [],
   "execution_count": 16
  }
 ],
 "metadata": {
  "kernelspec": {
   "display_name": "Python 3",
   "language": "python",
   "name": "python3"
  },
  "language_info": {
   "codemirror_mode": {
    "name": "ipython",
    "version": 2
   },
   "file_extension": ".py",
   "mimetype": "text/x-python",
   "name": "python",
   "nbconvert_exporter": "python",
   "pygments_lexer": "ipython2",
   "version": "2.7.6"
  }
 },
 "nbformat": 4,
 "nbformat_minor": 5
}
