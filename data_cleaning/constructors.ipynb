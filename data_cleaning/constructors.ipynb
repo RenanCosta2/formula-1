{
 "cells": [
  {
   "metadata": {},
   "cell_type": "markdown",
   "source": "# Limpeza de Dados do Dataset dos Construtores",
   "id": "1353b914dd2e081f"
  },
  {
   "metadata": {
    "ExecuteTime": {
     "end_time": "2025-05-28T10:46:49.840899Z",
     "start_time": "2025-05-28T10:46:49.391468Z"
    }
   },
   "cell_type": "code",
   "source": [
    "# Import das bibliotecas\n",
    "\n",
    "import pandas as pd"
   ],
   "id": "53d45546ad23eb8",
   "outputs": [],
   "execution_count": 2
  },
  {
   "metadata": {
    "ExecuteTime": {
     "end_time": "2025-05-28T10:46:49.933943Z",
     "start_time": "2025-05-28T10:46:49.884446Z"
    }
   },
   "cell_type": "code",
   "source": [
    "df = pd.read_csv('../data/constructors.csv')\n",
    "df.head()"
   ],
   "id": "845c088f133e6142",
   "outputs": [
    {
     "data": {
      "text/plain": [
       "   constructorId constructorRef        name nationality  \\\n",
       "0              1        mclaren     McLaren     British   \n",
       "1              2     bmw_sauber  BMW Sauber      German   \n",
       "2              3       williams    Williams     British   \n",
       "3              4        renault     Renault      French   \n",
       "4              5     toro_rosso  Toro Rosso     Italian   \n",
       "\n",
       "                                                 url  \n",
       "0               http://en.wikipedia.org/wiki/McLaren  \n",
       "1            http://en.wikipedia.org/wiki/BMW_Sauber  \n",
       "2  http://en.wikipedia.org/wiki/Williams_Grand_Pr...  \n",
       "3  http://en.wikipedia.org/wiki/Renault_in_Formul...  \n",
       "4   http://en.wikipedia.org/wiki/Scuderia_Toro_Rosso  "
      ],
      "text/html": [
       "<div>\n",
       "<style scoped>\n",
       "    .dataframe tbody tr th:only-of-type {\n",
       "        vertical-align: middle;\n",
       "    }\n",
       "\n",
       "    .dataframe tbody tr th {\n",
       "        vertical-align: top;\n",
       "    }\n",
       "\n",
       "    .dataframe thead th {\n",
       "        text-align: right;\n",
       "    }\n",
       "</style>\n",
       "<table border=\"1\" class=\"dataframe\">\n",
       "  <thead>\n",
       "    <tr style=\"text-align: right;\">\n",
       "      <th></th>\n",
       "      <th>constructorId</th>\n",
       "      <th>constructorRef</th>\n",
       "      <th>name</th>\n",
       "      <th>nationality</th>\n",
       "      <th>url</th>\n",
       "    </tr>\n",
       "  </thead>\n",
       "  <tbody>\n",
       "    <tr>\n",
       "      <th>0</th>\n",
       "      <td>1</td>\n",
       "      <td>mclaren</td>\n",
       "      <td>McLaren</td>\n",
       "      <td>British</td>\n",
       "      <td>http://en.wikipedia.org/wiki/McLaren</td>\n",
       "    </tr>\n",
       "    <tr>\n",
       "      <th>1</th>\n",
       "      <td>2</td>\n",
       "      <td>bmw_sauber</td>\n",
       "      <td>BMW Sauber</td>\n",
       "      <td>German</td>\n",
       "      <td>http://en.wikipedia.org/wiki/BMW_Sauber</td>\n",
       "    </tr>\n",
       "    <tr>\n",
       "      <th>2</th>\n",
       "      <td>3</td>\n",
       "      <td>williams</td>\n",
       "      <td>Williams</td>\n",
       "      <td>British</td>\n",
       "      <td>http://en.wikipedia.org/wiki/Williams_Grand_Pr...</td>\n",
       "    </tr>\n",
       "    <tr>\n",
       "      <th>3</th>\n",
       "      <td>4</td>\n",
       "      <td>renault</td>\n",
       "      <td>Renault</td>\n",
       "      <td>French</td>\n",
       "      <td>http://en.wikipedia.org/wiki/Renault_in_Formul...</td>\n",
       "    </tr>\n",
       "    <tr>\n",
       "      <th>4</th>\n",
       "      <td>5</td>\n",
       "      <td>toro_rosso</td>\n",
       "      <td>Toro Rosso</td>\n",
       "      <td>Italian</td>\n",
       "      <td>http://en.wikipedia.org/wiki/Scuderia_Toro_Rosso</td>\n",
       "    </tr>\n",
       "  </tbody>\n",
       "</table>\n",
       "</div>"
      ]
     },
     "execution_count": 3,
     "metadata": {},
     "output_type": "execute_result"
    }
   ],
   "execution_count": 3
  },
  {
   "metadata": {
    "ExecuteTime": {
     "end_time": "2025-05-28T10:46:50.073856Z",
     "start_time": "2025-05-28T10:46:50.059584Z"
    }
   },
   "cell_type": "code",
   "source": "df.dtypes",
   "id": "4cec7ec012c92d3f",
   "outputs": [
    {
     "data": {
      "text/plain": [
       "constructorId      int64\n",
       "constructorRef    object\n",
       "name              object\n",
       "nationality       object\n",
       "url               object\n",
       "dtype: object"
      ]
     },
     "execution_count": 4,
     "metadata": {},
     "output_type": "execute_result"
    }
   ],
   "execution_count": 4
  },
  {
   "metadata": {},
   "cell_type": "markdown",
   "source": "Os tipos das colunas não apresentam nenhuma inconsistência.",
   "id": "60c893d6a42d75cd"
  },
  {
   "metadata": {},
   "cell_type": "markdown",
   "source": "## Identificando Dados Ausentes",
   "id": "51d2766962e10c9a"
  },
  {
   "metadata": {
    "ExecuteTime": {
     "end_time": "2025-05-28T10:46:50.229026Z",
     "start_time": "2025-05-28T10:46:50.221508Z"
    }
   },
   "cell_type": "code",
   "source": [
    "# Verificando valores ausentes\n",
    "df.isnull().sum()"
   ],
   "id": "b745325089454ec1",
   "outputs": [
    {
     "data": {
      "text/plain": [
       "constructorId     0\n",
       "constructorRef    0\n",
       "name              0\n",
       "nationality       0\n",
       "url               0\n",
       "dtype: int64"
      ]
     },
     "execution_count": 5,
     "metadata": {},
     "output_type": "execute_result"
    }
   ],
   "execution_count": 5
  },
  {
   "metadata": {},
   "cell_type": "markdown",
   "source": "Nenhum valor ausente identificado.",
   "id": "94e1b85be1934eb4"
  },
  {
   "metadata": {},
   "cell_type": "markdown",
   "source": "## Identificando Dados Duplicados",
   "id": "11dcca3f5470c6d6"
  },
  {
   "metadata": {
    "ExecuteTime": {
     "end_time": "2025-05-28T10:47:41.545200Z",
     "start_time": "2025-05-28T10:47:41.517175Z"
    }
   },
   "cell_type": "code",
   "source": [
    "# Verificação de registros duplicados\n",
    "df[df.duplicated(keep=False)]"
   ],
   "id": "6caaf9d1b0a558fc",
   "outputs": [
    {
     "data": {
      "text/plain": [
       "Empty DataFrame\n",
       "Columns: [constructorId, constructorRef, name, nationality, url]\n",
       "Index: []"
      ],
      "text/html": [
       "<div>\n",
       "<style scoped>\n",
       "    .dataframe tbody tr th:only-of-type {\n",
       "        vertical-align: middle;\n",
       "    }\n",
       "\n",
       "    .dataframe tbody tr th {\n",
       "        vertical-align: top;\n",
       "    }\n",
       "\n",
       "    .dataframe thead th {\n",
       "        text-align: right;\n",
       "    }\n",
       "</style>\n",
       "<table border=\"1\" class=\"dataframe\">\n",
       "  <thead>\n",
       "    <tr style=\"text-align: right;\">\n",
       "      <th></th>\n",
       "      <th>constructorId</th>\n",
       "      <th>constructorRef</th>\n",
       "      <th>name</th>\n",
       "      <th>nationality</th>\n",
       "      <th>url</th>\n",
       "    </tr>\n",
       "  </thead>\n",
       "  <tbody>\n",
       "  </tbody>\n",
       "</table>\n",
       "</div>"
      ]
     },
     "execution_count": 6,
     "metadata": {},
     "output_type": "execute_result"
    }
   ],
   "execution_count": 6
  },
  {
   "metadata": {
    "ExecuteTime": {
     "end_time": "2025-05-28T10:48:33.735366Z",
     "start_time": "2025-05-28T10:48:33.716854Z"
    }
   },
   "cell_type": "code",
   "source": [
    "# Verificação de registros duplicados apenas da coluna 'constructorId'\n",
    "df[df.duplicated(subset=['constructorId'] ,keep=False)]"
   ],
   "id": "49e0d8bf6742049",
   "outputs": [
    {
     "data": {
      "text/plain": [
       "Empty DataFrame\n",
       "Columns: [constructorId, constructorRef, name, nationality, url]\n",
       "Index: []"
      ],
      "text/html": [
       "<div>\n",
       "<style scoped>\n",
       "    .dataframe tbody tr th:only-of-type {\n",
       "        vertical-align: middle;\n",
       "    }\n",
       "\n",
       "    .dataframe tbody tr th {\n",
       "        vertical-align: top;\n",
       "    }\n",
       "\n",
       "    .dataframe thead th {\n",
       "        text-align: right;\n",
       "    }\n",
       "</style>\n",
       "<table border=\"1\" class=\"dataframe\">\n",
       "  <thead>\n",
       "    <tr style=\"text-align: right;\">\n",
       "      <th></th>\n",
       "      <th>constructorId</th>\n",
       "      <th>constructorRef</th>\n",
       "      <th>name</th>\n",
       "      <th>nationality</th>\n",
       "      <th>url</th>\n",
       "    </tr>\n",
       "  </thead>\n",
       "  <tbody>\n",
       "  </tbody>\n",
       "</table>\n",
       "</div>"
      ]
     },
     "execution_count": 7,
     "metadata": {},
     "output_type": "execute_result"
    }
   ],
   "execution_count": 7
  },
  {
   "metadata": {
    "ExecuteTime": {
     "end_time": "2025-05-28T10:48:45.429421Z",
     "start_time": "2025-05-28T10:48:45.409408Z"
    }
   },
   "cell_type": "code",
   "source": [
    "# Verificação de registros duplicados apenas da coluna 'constructorRef'\n",
    "df[df.duplicated(subset=['constructorRef'] ,keep=False)]"
   ],
   "id": "a8cc5e3679b9f7a2",
   "outputs": [
    {
     "data": {
      "text/plain": [
       "Empty DataFrame\n",
       "Columns: [constructorId, constructorRef, name, nationality, url]\n",
       "Index: []"
      ],
      "text/html": [
       "<div>\n",
       "<style scoped>\n",
       "    .dataframe tbody tr th:only-of-type {\n",
       "        vertical-align: middle;\n",
       "    }\n",
       "\n",
       "    .dataframe tbody tr th {\n",
       "        vertical-align: top;\n",
       "    }\n",
       "\n",
       "    .dataframe thead th {\n",
       "        text-align: right;\n",
       "    }\n",
       "</style>\n",
       "<table border=\"1\" class=\"dataframe\">\n",
       "  <thead>\n",
       "    <tr style=\"text-align: right;\">\n",
       "      <th></th>\n",
       "      <th>constructorId</th>\n",
       "      <th>constructorRef</th>\n",
       "      <th>name</th>\n",
       "      <th>nationality</th>\n",
       "      <th>url</th>\n",
       "    </tr>\n",
       "  </thead>\n",
       "  <tbody>\n",
       "  </tbody>\n",
       "</table>\n",
       "</div>"
      ]
     },
     "execution_count": 8,
     "metadata": {},
     "output_type": "execute_result"
    }
   ],
   "execution_count": 8
  },
  {
   "metadata": {
    "ExecuteTime": {
     "end_time": "2025-05-28T10:49:00.854203Z",
     "start_time": "2025-05-28T10:49:00.845687Z"
    }
   },
   "cell_type": "code",
   "source": [
    "# Verificação de registros duplicados apenas da coluna 'name'\n",
    "df[df.duplicated(subset=['name'] ,keep=False)]"
   ],
   "id": "dc7ba92985768db6",
   "outputs": [
    {
     "data": {
      "text/plain": [
       "Empty DataFrame\n",
       "Columns: [constructorId, constructorRef, name, nationality, url]\n",
       "Index: []"
      ],
      "text/html": [
       "<div>\n",
       "<style scoped>\n",
       "    .dataframe tbody tr th:only-of-type {\n",
       "        vertical-align: middle;\n",
       "    }\n",
       "\n",
       "    .dataframe tbody tr th {\n",
       "        vertical-align: top;\n",
       "    }\n",
       "\n",
       "    .dataframe thead th {\n",
       "        text-align: right;\n",
       "    }\n",
       "</style>\n",
       "<table border=\"1\" class=\"dataframe\">\n",
       "  <thead>\n",
       "    <tr style=\"text-align: right;\">\n",
       "      <th></th>\n",
       "      <th>constructorId</th>\n",
       "      <th>constructorRef</th>\n",
       "      <th>name</th>\n",
       "      <th>nationality</th>\n",
       "      <th>url</th>\n",
       "    </tr>\n",
       "  </thead>\n",
       "  <tbody>\n",
       "  </tbody>\n",
       "</table>\n",
       "</div>"
      ]
     },
     "execution_count": 9,
     "metadata": {},
     "output_type": "execute_result"
    }
   ],
   "execution_count": 9
  },
  {
   "metadata": {},
   "cell_type": "markdown",
   "source": "Não foi encontrado nenhum registro duplicado.",
   "id": "89a2571a27cb7f88"
  },
  {
   "metadata": {},
   "cell_type": "markdown",
   "source": "## Análise da Variável `nationality`",
   "id": "373e06a4b607cb39"
  },
  {
   "metadata": {
    "ExecuteTime": {
     "end_time": "2025-05-28T10:56:08.018641Z",
     "start_time": "2025-05-28T10:56:08.009122Z"
    }
   },
   "cell_type": "code",
   "source": "df['nationality'].value_counts()",
   "id": "8904ac3093b89ae7",
   "outputs": [
    {
     "data": {
      "text/plain": [
       "British          86\n",
       "American         39\n",
       "Italian          30\n",
       "French           13\n",
       "German           10\n",
       "Japanese          5\n",
       "Swiss             5\n",
       "South African     3\n",
       "Dutch             3\n",
       "Canadian          2\n",
       "Malaysian         2\n",
       "Russian           2\n",
       "Hong Kong         1\n",
       "Irish             1\n",
       "Mexican           1\n",
       "Indian            1\n",
       "Australian        1\n",
       "New Zealander     1\n",
       "Austrian          1\n",
       "Rhodesian         1\n",
       "Belgian           1\n",
       "East German       1\n",
       "Spanish           1\n",
       "Brazilian         1\n",
       "Name: nationality, dtype: int64"
      ]
     },
     "execution_count": 13,
     "metadata": {},
     "output_type": "execute_result"
    }
   ],
   "execution_count": 13
  },
  {
   "metadata": {},
   "cell_type": "markdown",
   "source": "Não foi identificado nenhuma inconsistência nos dados de nacionalidades das equipes construtoras.",
   "id": "ae5fb48c06d31450"
  },
  {
   "metadata": {},
   "cell_type": "markdown",
   "source": "## Salvando o Dataset Tratado",
   "id": "1c7ce9fd2dba58af"
  },
  {
   "metadata": {
    "ExecuteTime": {
     "end_time": "2025-05-28T11:01:16.480227Z",
     "start_time": "2025-05-28T11:01:16.467715Z"
    }
   },
   "cell_type": "code",
   "source": "df.to_csv('../data_cleaned/constructors.csv', index=False)",
   "id": "ac765c74e6d89c28",
   "outputs": [],
   "execution_count": 14
  }
 ],
 "metadata": {
  "kernelspec": {
   "display_name": "Python 3",
   "language": "python",
   "name": "python3"
  },
  "language_info": {
   "codemirror_mode": {
    "name": "ipython",
    "version": 2
   },
   "file_extension": ".py",
   "mimetype": "text/x-python",
   "name": "python",
   "nbconvert_exporter": "python",
   "pygments_lexer": "ipython2",
   "version": "2.7.6"
  }
 },
 "nbformat": 4,
 "nbformat_minor": 5
}
